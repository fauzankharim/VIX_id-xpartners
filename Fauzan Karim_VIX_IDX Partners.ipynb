{
  "nbformat": 4,
  "nbformat_minor": 0,
  "metadata": {
    "colab": {
      "provenance": [],
      "collapsed_sections": [
        "2p8a3UcoCQTw",
        "ZfQnLv80OyaJ",
        "vUq1T1NMPRAo"
      ]
    },
    "kernelspec": {
      "name": "python3",
      "display_name": "Python 3"
    },
    "language_info": {
      "name": "python"
    }
  },
  "cells": [
    {
      "cell_type": "markdown",
      "source": [
        "# Introduction"
      ],
      "metadata": {
        "id": "2p8a3UcoCQTw"
      }
    },
    {
      "cell_type": "markdown",
      "source": [
        "**Problem:** We are investors in P2P platforms. There are loans that get charged off in the end. If a loan get charged off or defaulted, we will lost our money. We want to prevent that, and minimize our loss.\n",
        "\n",
        "**Business Metrics:** Loss, net profit margin.\n",
        "\n",
        "**Solution explanation:** We will create a machine learning model that can identify if a loan is potentially bad / risky loan. It can be used as an investment decision tools. For the model, we're gonna use some non-parametrical algorithm (with little assumption) because we are not statistician, and statistics is hard. If our model is reliable, our investment in risky loans will decrease, our loss can be minimized and our net profit margin should increase.\n",
        "\n",
        "**Data:** Lending club credit loan data between 2007 - 2014"
      ],
      "metadata": {
        "id": "oHohwMv4B3-N"
      }
    },
    {
      "cell_type": "markdown",
      "source": [
        "# Import and Load Dataset"
      ],
      "metadata": {
        "id": "DK6xgw-k-Euf"
      }
    },
    {
      "cell_type": "code",
      "execution_count": 4,
      "metadata": {
        "colab": {
          "base_uri": "https://localhost:8080/",
          "height": 404
        },
        "id": "stWhnT8w9M-q",
        "outputId": "c59de79d-0bcb-41a2-fe74-119a7a8a41fd"
      },
      "outputs": [
        {
          "output_type": "execute_result",
          "data": {
            "text/plain": [
              "       Unnamed: 0      id  member_id  loan_amnt  funded_amnt  funded_amnt_inv  \\\n",
              "16140       16140  738208     935546      13000        13000          12750.0   \n",
              "11027       11027  822246    1030671      20000        20000          19950.0   \n",
              "14178       14178  770031     971602       1200         1200           1200.0   \n",
              "7796         7796  875556    1090114       7000         7000           7000.0   \n",
              "7528         7528  881029    1096068       1500         1500           1500.0   \n",
              "\n",
              "             term  int_rate  installment grade  ... total_bal_il il_util  \\\n",
              "16140   36 months      9.63       417.22     B  ...          NaN     NaN   \n",
              "11027   36 months     14.79       691.26     C  ...          NaN     NaN   \n",
              "14178   36 months      5.99        36.51     A  ...          NaN     NaN   \n",
              "7796    36 months      8.49       220.95     A  ...          NaN     NaN   \n",
              "7528    36 months     13.49        50.90     C  ...          NaN     NaN   \n",
              "\n",
              "      open_rv_12m open_rv_24m  max_bal_bc all_util total_rev_hi_lim inq_fi  \\\n",
              "16140         NaN         NaN         NaN      NaN              NaN    NaN   \n",
              "11027         NaN         NaN         NaN      NaN              NaN    NaN   \n",
              "14178         NaN         NaN         NaN      NaN              NaN    NaN   \n",
              "7796          NaN         NaN         NaN      NaN              NaN    NaN   \n",
              "7528          NaN         NaN         NaN      NaN              NaN    NaN   \n",
              "\n",
              "      total_cu_tl inq_last_12m  \n",
              "16140         NaN          NaN  \n",
              "11027         NaN          NaN  \n",
              "14178         NaN          NaN  \n",
              "7796          NaN          NaN  \n",
              "7528          NaN          NaN  \n",
              "\n",
              "[5 rows x 75 columns]"
            ],
            "text/html": [
              "\n",
              "  <div id=\"df-01cc9f49-b8ee-418a-a922-e8d18c8cd12e\">\n",
              "    <div class=\"colab-df-container\">\n",
              "      <div>\n",
              "<style scoped>\n",
              "    .dataframe tbody tr th:only-of-type {\n",
              "        vertical-align: middle;\n",
              "    }\n",
              "\n",
              "    .dataframe tbody tr th {\n",
              "        vertical-align: top;\n",
              "    }\n",
              "\n",
              "    .dataframe thead th {\n",
              "        text-align: right;\n",
              "    }\n",
              "</style>\n",
              "<table border=\"1\" class=\"dataframe\">\n",
              "  <thead>\n",
              "    <tr style=\"text-align: right;\">\n",
              "      <th></th>\n",
              "      <th>Unnamed: 0</th>\n",
              "      <th>id</th>\n",
              "      <th>member_id</th>\n",
              "      <th>loan_amnt</th>\n",
              "      <th>funded_amnt</th>\n",
              "      <th>funded_amnt_inv</th>\n",
              "      <th>term</th>\n",
              "      <th>int_rate</th>\n",
              "      <th>installment</th>\n",
              "      <th>grade</th>\n",
              "      <th>...</th>\n",
              "      <th>total_bal_il</th>\n",
              "      <th>il_util</th>\n",
              "      <th>open_rv_12m</th>\n",
              "      <th>open_rv_24m</th>\n",
              "      <th>max_bal_bc</th>\n",
              "      <th>all_util</th>\n",
              "      <th>total_rev_hi_lim</th>\n",
              "      <th>inq_fi</th>\n",
              "      <th>total_cu_tl</th>\n",
              "      <th>inq_last_12m</th>\n",
              "    </tr>\n",
              "  </thead>\n",
              "  <tbody>\n",
              "    <tr>\n",
              "      <th>16140</th>\n",
              "      <td>16140</td>\n",
              "      <td>738208</td>\n",
              "      <td>935546</td>\n",
              "      <td>13000</td>\n",
              "      <td>13000</td>\n",
              "      <td>12750.0</td>\n",
              "      <td>36 months</td>\n",
              "      <td>9.63</td>\n",
              "      <td>417.22</td>\n",
              "      <td>B</td>\n",
              "      <td>...</td>\n",
              "      <td>NaN</td>\n",
              "      <td>NaN</td>\n",
              "      <td>NaN</td>\n",
              "      <td>NaN</td>\n",
              "      <td>NaN</td>\n",
              "      <td>NaN</td>\n",
              "      <td>NaN</td>\n",
              "      <td>NaN</td>\n",
              "      <td>NaN</td>\n",
              "      <td>NaN</td>\n",
              "    </tr>\n",
              "    <tr>\n",
              "      <th>11027</th>\n",
              "      <td>11027</td>\n",
              "      <td>822246</td>\n",
              "      <td>1030671</td>\n",
              "      <td>20000</td>\n",
              "      <td>20000</td>\n",
              "      <td>19950.0</td>\n",
              "      <td>36 months</td>\n",
              "      <td>14.79</td>\n",
              "      <td>691.26</td>\n",
              "      <td>C</td>\n",
              "      <td>...</td>\n",
              "      <td>NaN</td>\n",
              "      <td>NaN</td>\n",
              "      <td>NaN</td>\n",
              "      <td>NaN</td>\n",
              "      <td>NaN</td>\n",
              "      <td>NaN</td>\n",
              "      <td>NaN</td>\n",
              "      <td>NaN</td>\n",
              "      <td>NaN</td>\n",
              "      <td>NaN</td>\n",
              "    </tr>\n",
              "    <tr>\n",
              "      <th>14178</th>\n",
              "      <td>14178</td>\n",
              "      <td>770031</td>\n",
              "      <td>971602</td>\n",
              "      <td>1200</td>\n",
              "      <td>1200</td>\n",
              "      <td>1200.0</td>\n",
              "      <td>36 months</td>\n",
              "      <td>5.99</td>\n",
              "      <td>36.51</td>\n",
              "      <td>A</td>\n",
              "      <td>...</td>\n",
              "      <td>NaN</td>\n",
              "      <td>NaN</td>\n",
              "      <td>NaN</td>\n",
              "      <td>NaN</td>\n",
              "      <td>NaN</td>\n",
              "      <td>NaN</td>\n",
              "      <td>NaN</td>\n",
              "      <td>NaN</td>\n",
              "      <td>NaN</td>\n",
              "      <td>NaN</td>\n",
              "    </tr>\n",
              "    <tr>\n",
              "      <th>7796</th>\n",
              "      <td>7796</td>\n",
              "      <td>875556</td>\n",
              "      <td>1090114</td>\n",
              "      <td>7000</td>\n",
              "      <td>7000</td>\n",
              "      <td>7000.0</td>\n",
              "      <td>36 months</td>\n",
              "      <td>8.49</td>\n",
              "      <td>220.95</td>\n",
              "      <td>A</td>\n",
              "      <td>...</td>\n",
              "      <td>NaN</td>\n",
              "      <td>NaN</td>\n",
              "      <td>NaN</td>\n",
              "      <td>NaN</td>\n",
              "      <td>NaN</td>\n",
              "      <td>NaN</td>\n",
              "      <td>NaN</td>\n",
              "      <td>NaN</td>\n",
              "      <td>NaN</td>\n",
              "      <td>NaN</td>\n",
              "    </tr>\n",
              "    <tr>\n",
              "      <th>7528</th>\n",
              "      <td>7528</td>\n",
              "      <td>881029</td>\n",
              "      <td>1096068</td>\n",
              "      <td>1500</td>\n",
              "      <td>1500</td>\n",
              "      <td>1500.0</td>\n",
              "      <td>36 months</td>\n",
              "      <td>13.49</td>\n",
              "      <td>50.90</td>\n",
              "      <td>C</td>\n",
              "      <td>...</td>\n",
              "      <td>NaN</td>\n",
              "      <td>NaN</td>\n",
              "      <td>NaN</td>\n",
              "      <td>NaN</td>\n",
              "      <td>NaN</td>\n",
              "      <td>NaN</td>\n",
              "      <td>NaN</td>\n",
              "      <td>NaN</td>\n",
              "      <td>NaN</td>\n",
              "      <td>NaN</td>\n",
              "    </tr>\n",
              "  </tbody>\n",
              "</table>\n",
              "<p>5 rows × 75 columns</p>\n",
              "</div>\n",
              "      <button class=\"colab-df-convert\" onclick=\"convertToInteractive('df-01cc9f49-b8ee-418a-a922-e8d18c8cd12e')\"\n",
              "              title=\"Convert this dataframe to an interactive table.\"\n",
              "              style=\"display:none;\">\n",
              "        \n",
              "  <svg xmlns=\"http://www.w3.org/2000/svg\" height=\"24px\"viewBox=\"0 0 24 24\"\n",
              "       width=\"24px\">\n",
              "    <path d=\"M0 0h24v24H0V0z\" fill=\"none\"/>\n",
              "    <path d=\"M18.56 5.44l.94 2.06.94-2.06 2.06-.94-2.06-.94-.94-2.06-.94 2.06-2.06.94zm-11 1L8.5 8.5l.94-2.06 2.06-.94-2.06-.94L8.5 2.5l-.94 2.06-2.06.94zm10 10l.94 2.06.94-2.06 2.06-.94-2.06-.94-.94-2.06-.94 2.06-2.06.94z\"/><path d=\"M17.41 7.96l-1.37-1.37c-.4-.4-.92-.59-1.43-.59-.52 0-1.04.2-1.43.59L10.3 9.45l-7.72 7.72c-.78.78-.78 2.05 0 2.83L4 21.41c.39.39.9.59 1.41.59.51 0 1.02-.2 1.41-.59l7.78-7.78 2.81-2.81c.8-.78.8-2.07 0-2.86zM5.41 20L4 18.59l7.72-7.72 1.47 1.35L5.41 20z\"/>\n",
              "  </svg>\n",
              "      </button>\n",
              "      \n",
              "  <style>\n",
              "    .colab-df-container {\n",
              "      display:flex;\n",
              "      flex-wrap:wrap;\n",
              "      gap: 12px;\n",
              "    }\n",
              "\n",
              "    .colab-df-convert {\n",
              "      background-color: #E8F0FE;\n",
              "      border: none;\n",
              "      border-radius: 50%;\n",
              "      cursor: pointer;\n",
              "      display: none;\n",
              "      fill: #1967D2;\n",
              "      height: 32px;\n",
              "      padding: 0 0 0 0;\n",
              "      width: 32px;\n",
              "    }\n",
              "\n",
              "    .colab-df-convert:hover {\n",
              "      background-color: #E2EBFA;\n",
              "      box-shadow: 0px 1px 2px rgba(60, 64, 67, 0.3), 0px 1px 3px 1px rgba(60, 64, 67, 0.15);\n",
              "      fill: #174EA6;\n",
              "    }\n",
              "\n",
              "    [theme=dark] .colab-df-convert {\n",
              "      background-color: #3B4455;\n",
              "      fill: #D2E3FC;\n",
              "    }\n",
              "\n",
              "    [theme=dark] .colab-df-convert:hover {\n",
              "      background-color: #434B5C;\n",
              "      box-shadow: 0px 1px 3px 1px rgba(0, 0, 0, 0.15);\n",
              "      filter: drop-shadow(0px 1px 2px rgba(0, 0, 0, 0.3));\n",
              "      fill: #FFFFFF;\n",
              "    }\n",
              "  </style>\n",
              "\n",
              "      <script>\n",
              "        const buttonEl =\n",
              "          document.querySelector('#df-01cc9f49-b8ee-418a-a922-e8d18c8cd12e button.colab-df-convert');\n",
              "        buttonEl.style.display =\n",
              "          google.colab.kernel.accessAllowed ? 'block' : 'none';\n",
              "\n",
              "        async function convertToInteractive(key) {\n",
              "          const element = document.querySelector('#df-01cc9f49-b8ee-418a-a922-e8d18c8cd12e');\n",
              "          const dataTable =\n",
              "            await google.colab.kernel.invokeFunction('convertToInteractive',\n",
              "                                                     [key], {});\n",
              "          if (!dataTable) return;\n",
              "\n",
              "          const docLinkHtml = 'Like what you see? Visit the ' +\n",
              "            '<a target=\"_blank\" href=https://colab.research.google.com/notebooks/data_table.ipynb>data table notebook</a>'\n",
              "            + ' to learn more about interactive tables.';\n",
              "          element.innerHTML = '';\n",
              "          dataTable['output_type'] = 'display_data';\n",
              "          await google.colab.output.renderOutput(dataTable, element);\n",
              "          const docLink = document.createElement('div');\n",
              "          docLink.innerHTML = docLinkHtml;\n",
              "          element.appendChild(docLink);\n",
              "        }\n",
              "      </script>\n",
              "    </div>\n",
              "  </div>\n",
              "  "
            ]
          },
          "metadata": {},
          "execution_count": 4
        }
      ],
      "source": [
        "import numpy as np # linear algebra\n",
        "import pandas as pd # data processing, CSV file I/O (e.g. pd.read_csv)\n",
        "import seaborn as sns # cool graph\n",
        "import matplotlib.pyplot as plt # graph\n",
        "\n",
        "from datetime import datetime as dt\n",
        "from collections import defaultdict\n",
        "import time\n",
        "from warnings import filterwarnings\n",
        "filterwarnings('ignore')\n",
        "\n",
        "df = pd.read_csv('loan_data_2007_2014.csv', sep=',')\n",
        "df.sample(5)"
      ]
    },
    {
      "cell_type": "code",
      "source": [
        "df.info()"
      ],
      "metadata": {
        "colab": {
          "base_uri": "https://localhost:8080/"
        },
        "id": "6PIWAW0WDdRk",
        "outputId": "9a1afc11-178a-42e7-ab27-bc7ed8362f85"
      },
      "execution_count": 5,
      "outputs": [
        {
          "output_type": "stream",
          "name": "stdout",
          "text": [
            "<class 'pandas.core.frame.DataFrame'>\n",
            "RangeIndex: 18264 entries, 0 to 18263\n",
            "Data columns (total 75 columns):\n",
            " #   Column                       Non-Null Count  Dtype  \n",
            "---  ------                       --------------  -----  \n",
            " 0   Unnamed: 0                   18264 non-null  int64  \n",
            " 1   id                           18264 non-null  int64  \n",
            " 2   member_id                    18264 non-null  int64  \n",
            " 3   loan_amnt                    18264 non-null  int64  \n",
            " 4   funded_amnt                  18264 non-null  int64  \n",
            " 5   funded_amnt_inv              18264 non-null  float64\n",
            " 6   term                         18263 non-null  object \n",
            " 7   int_rate                     18263 non-null  float64\n",
            " 8   installment                  18263 non-null  float64\n",
            " 9   grade                        18263 non-null  object \n",
            " 10  sub_grade                    18263 non-null  object \n",
            " 11  emp_title                    17076 non-null  object \n",
            " 12  emp_length                   17632 non-null  object \n",
            " 13  home_ownership               18263 non-null  object \n",
            " 14  annual_inc                   18263 non-null  float64\n",
            " 15  verification_status          18263 non-null  object \n",
            " 16  issue_d                      18263 non-null  object \n",
            " 17  loan_status                  18263 non-null  object \n",
            " 18  pymnt_plan                   18263 non-null  object \n",
            " 19  url                          18263 non-null  object \n",
            " 20  desc                         10604 non-null  object \n",
            " 21  purpose                      18263 non-null  object \n",
            " 22  title                        18263 non-null  object \n",
            " 23  zip_code                     18263 non-null  object \n",
            " 24  addr_state                   18263 non-null  object \n",
            " 25  dti                          18263 non-null  float64\n",
            " 26  delinq_2yrs                  18263 non-null  float64\n",
            " 27  earliest_cr_line             18263 non-null  object \n",
            " 28  inq_last_6mths               18263 non-null  float64\n",
            " 29  mths_since_last_delinq       6177 non-null   float64\n",
            " 30  mths_since_last_record       946 non-null    float64\n",
            " 31  open_acc                     18263 non-null  float64\n",
            " 32  pub_rec                      18263 non-null  float64\n",
            " 33  revol_bal                    18263 non-null  float64\n",
            " 34  revol_util                   18254 non-null  float64\n",
            " 35  total_acc                    18263 non-null  float64\n",
            " 36  initial_list_status          18263 non-null  object \n",
            " 37  out_prncp                    18263 non-null  float64\n",
            " 38  out_prncp_inv                18263 non-null  float64\n",
            " 39  total_pymnt                  18263 non-null  float64\n",
            " 40  total_pymnt_inv              18263 non-null  float64\n",
            " 41  total_rec_prncp              18263 non-null  float64\n",
            " 42  total_rec_int                18263 non-null  float64\n",
            " 43  total_rec_late_fee           18263 non-null  float64\n",
            " 44  recoveries                   18263 non-null  float64\n",
            " 45  collection_recovery_fee      18263 non-null  float64\n",
            " 46  last_pymnt_d                 18228 non-null  object \n",
            " 47  last_pymnt_amnt              18263 non-null  float64\n",
            " 48  next_pymnt_d                 1786 non-null   object \n",
            " 49  last_credit_pull_d           18263 non-null  object \n",
            " 50  collections_12_mths_ex_med   18263 non-null  float64\n",
            " 51  mths_since_last_major_derog  0 non-null      float64\n",
            " 52  policy_code                  18263 non-null  float64\n",
            " 53  application_type             18263 non-null  object \n",
            " 54  annual_inc_joint             0 non-null      float64\n",
            " 55  dti_joint                    0 non-null      float64\n",
            " 56  verification_status_joint    0 non-null      float64\n",
            " 57  acc_now_delinq               18263 non-null  float64\n",
            " 58  tot_coll_amt                 0 non-null      float64\n",
            " 59  tot_cur_bal                  0 non-null      float64\n",
            " 60  open_acc_6m                  0 non-null      float64\n",
            " 61  open_il_6m                   0 non-null      float64\n",
            " 62  open_il_12m                  0 non-null      float64\n",
            " 63  open_il_24m                  0 non-null      float64\n",
            " 64  mths_since_rcnt_il           0 non-null      float64\n",
            " 65  total_bal_il                 0 non-null      float64\n",
            " 66  il_util                      0 non-null      float64\n",
            " 67  open_rv_12m                  0 non-null      float64\n",
            " 68  open_rv_24m                  0 non-null      float64\n",
            " 69  max_bal_bc                   0 non-null      float64\n",
            " 70  all_util                     0 non-null      float64\n",
            " 71  total_rev_hi_lim             0 non-null      float64\n",
            " 72  inq_fi                       0 non-null      float64\n",
            " 73  total_cu_tl                  0 non-null      float64\n",
            " 74  inq_last_12m                 0 non-null      float64\n",
            "dtypes: float64(48), int64(5), object(22)\n",
            "memory usage: 10.5+ MB\n"
          ]
        }
      ]
    },
    {
      "cell_type": "code",
      "source": [
        "df.shape"
      ],
      "metadata": {
        "colab": {
          "base_uri": "https://localhost:8080/"
        },
        "id": "N882Q8XEDf83",
        "outputId": "c6b181d0-3fb0-4ed4-9bef-62791a86e982"
      },
      "execution_count": 6,
      "outputs": [
        {
          "output_type": "execute_result",
          "data": {
            "text/plain": [
              "(18264, 75)"
            ]
          },
          "metadata": {},
          "execution_count": 6
        }
      ]
    },
    {
      "cell_type": "markdown",
      "source": [
        "# Statistical Summary"
      ],
      "metadata": {
        "id": "leut8B3J-LcC"
      }
    },
    {
      "cell_type": "code",
      "source": [
        "numerical = df.select_dtypes(exclude='object')\n",
        "categorical = df.select_dtypes(include='object')"
      ],
      "metadata": {
        "id": "BtMSApPIDlAl"
      },
      "execution_count": 8,
      "outputs": []
    },
    {
      "cell_type": "code",
      "source": [
        "numerical.describe()"
      ],
      "metadata": {
        "colab": {
          "base_uri": "https://localhost:8080/",
          "height": 394
        },
        "id": "qzfD20qwDq-D",
        "outputId": "5d56e450-b932-4b03-9e50-462ac8bda35e"
      },
      "execution_count": 9,
      "outputs": [
        {
          "output_type": "execute_result",
          "data": {
            "text/plain": [
              "         Unnamed: 0            id     member_id     loan_amnt   funded_amnt  \\\n",
              "count  18264.000000  1.826400e+04  1.826400e+04  18264.000000  18264.000000   \n",
              "mean    9131.500000  8.751911e+05  1.087290e+06  12219.906647  11985.790353   \n",
              "std     5272.506994  1.169725e+05  1.299854e+05   8367.372585   8057.338640   \n",
              "min        0.000000  2.967370e+05  2.967340e+05   1000.000000   1000.000000   \n",
              "25%     4565.750000  7.753318e+05  9.769638e+05   6000.000000   6000.000000   \n",
              "50%     9131.500000  8.520165e+05  1.063256e+06  10000.000000  10000.000000   \n",
              "75%    13697.250000  9.968520e+05  1.221109e+06  16000.000000  16000.000000   \n",
              "max    18263.000000  1.077501e+06  1.314167e+06  35000.000000  35000.000000   \n",
              "\n",
              "       funded_amnt_inv      int_rate   installment    annual_inc  \\\n",
              "count     18264.000000  18263.000000  18263.000000  1.826300e+04   \n",
              "mean      11840.673709     12.353561    342.029763  6.964640e+04   \n",
              "std        7929.074032      4.172481    220.721466  4.724947e+04   \n",
              "min         400.000000      5.420000     21.740000  6.000000e+03   \n",
              "25%        5750.000000      8.900000    175.770000  4.200000e+04   \n",
              "50%       10000.000000     11.990000    301.600000  6.000000e+04   \n",
              "75%       15800.000000     15.280000    456.540000  8.400000e+04   \n",
              "max       35000.000000     24.590000   1305.190000  1.782000e+06   \n",
              "\n",
              "                dti  ...  total_bal_il  il_util  open_rv_12m  open_rv_24m  \\\n",
              "count  18263.000000  ...           0.0      0.0          0.0          0.0   \n",
              "mean      13.893108  ...           NaN      NaN          NaN          NaN   \n",
              "std        6.716615  ...           NaN      NaN          NaN          NaN   \n",
              "min        0.000000  ...           NaN      NaN          NaN          NaN   \n",
              "25%        8.780000  ...           NaN      NaN          NaN          NaN   \n",
              "50%       13.970000  ...           NaN      NaN          NaN          NaN   \n",
              "75%       19.140000  ...           NaN      NaN          NaN          NaN   \n",
              "max       29.990000  ...           NaN      NaN          NaN          NaN   \n",
              "\n",
              "       max_bal_bc  all_util  total_rev_hi_lim  inq_fi  total_cu_tl  \\\n",
              "count         0.0       0.0               0.0     0.0          0.0   \n",
              "mean          NaN       NaN               NaN     NaN          NaN   \n",
              "std           NaN       NaN               NaN     NaN          NaN   \n",
              "min           NaN       NaN               NaN     NaN          NaN   \n",
              "25%           NaN       NaN               NaN     NaN          NaN   \n",
              "50%           NaN       NaN               NaN     NaN          NaN   \n",
              "75%           NaN       NaN               NaN     NaN          NaN   \n",
              "max           NaN       NaN               NaN     NaN          NaN   \n",
              "\n",
              "       inq_last_12m  \n",
              "count           0.0  \n",
              "mean            NaN  \n",
              "std             NaN  \n",
              "min             NaN  \n",
              "25%             NaN  \n",
              "50%             NaN  \n",
              "75%             NaN  \n",
              "max             NaN  \n",
              "\n",
              "[8 rows x 53 columns]"
            ],
            "text/html": [
              "\n",
              "  <div id=\"df-2c625579-554c-4338-a800-4ad9b8772393\">\n",
              "    <div class=\"colab-df-container\">\n",
              "      <div>\n",
              "<style scoped>\n",
              "    .dataframe tbody tr th:only-of-type {\n",
              "        vertical-align: middle;\n",
              "    }\n",
              "\n",
              "    .dataframe tbody tr th {\n",
              "        vertical-align: top;\n",
              "    }\n",
              "\n",
              "    .dataframe thead th {\n",
              "        text-align: right;\n",
              "    }\n",
              "</style>\n",
              "<table border=\"1\" class=\"dataframe\">\n",
              "  <thead>\n",
              "    <tr style=\"text-align: right;\">\n",
              "      <th></th>\n",
              "      <th>Unnamed: 0</th>\n",
              "      <th>id</th>\n",
              "      <th>member_id</th>\n",
              "      <th>loan_amnt</th>\n",
              "      <th>funded_amnt</th>\n",
              "      <th>funded_amnt_inv</th>\n",
              "      <th>int_rate</th>\n",
              "      <th>installment</th>\n",
              "      <th>annual_inc</th>\n",
              "      <th>dti</th>\n",
              "      <th>...</th>\n",
              "      <th>total_bal_il</th>\n",
              "      <th>il_util</th>\n",
              "      <th>open_rv_12m</th>\n",
              "      <th>open_rv_24m</th>\n",
              "      <th>max_bal_bc</th>\n",
              "      <th>all_util</th>\n",
              "      <th>total_rev_hi_lim</th>\n",
              "      <th>inq_fi</th>\n",
              "      <th>total_cu_tl</th>\n",
              "      <th>inq_last_12m</th>\n",
              "    </tr>\n",
              "  </thead>\n",
              "  <tbody>\n",
              "    <tr>\n",
              "      <th>count</th>\n",
              "      <td>18264.000000</td>\n",
              "      <td>1.826400e+04</td>\n",
              "      <td>1.826400e+04</td>\n",
              "      <td>18264.000000</td>\n",
              "      <td>18264.000000</td>\n",
              "      <td>18264.000000</td>\n",
              "      <td>18263.000000</td>\n",
              "      <td>18263.000000</td>\n",
              "      <td>1.826300e+04</td>\n",
              "      <td>18263.000000</td>\n",
              "      <td>...</td>\n",
              "      <td>0.0</td>\n",
              "      <td>0.0</td>\n",
              "      <td>0.0</td>\n",
              "      <td>0.0</td>\n",
              "      <td>0.0</td>\n",
              "      <td>0.0</td>\n",
              "      <td>0.0</td>\n",
              "      <td>0.0</td>\n",
              "      <td>0.0</td>\n",
              "      <td>0.0</td>\n",
              "    </tr>\n",
              "    <tr>\n",
              "      <th>mean</th>\n",
              "      <td>9131.500000</td>\n",
              "      <td>8.751911e+05</td>\n",
              "      <td>1.087290e+06</td>\n",
              "      <td>12219.906647</td>\n",
              "      <td>11985.790353</td>\n",
              "      <td>11840.673709</td>\n",
              "      <td>12.353561</td>\n",
              "      <td>342.029763</td>\n",
              "      <td>6.964640e+04</td>\n",
              "      <td>13.893108</td>\n",
              "      <td>...</td>\n",
              "      <td>NaN</td>\n",
              "      <td>NaN</td>\n",
              "      <td>NaN</td>\n",
              "      <td>NaN</td>\n",
              "      <td>NaN</td>\n",
              "      <td>NaN</td>\n",
              "      <td>NaN</td>\n",
              "      <td>NaN</td>\n",
              "      <td>NaN</td>\n",
              "      <td>NaN</td>\n",
              "    </tr>\n",
              "    <tr>\n",
              "      <th>std</th>\n",
              "      <td>5272.506994</td>\n",
              "      <td>1.169725e+05</td>\n",
              "      <td>1.299854e+05</td>\n",
              "      <td>8367.372585</td>\n",
              "      <td>8057.338640</td>\n",
              "      <td>7929.074032</td>\n",
              "      <td>4.172481</td>\n",
              "      <td>220.721466</td>\n",
              "      <td>4.724947e+04</td>\n",
              "      <td>6.716615</td>\n",
              "      <td>...</td>\n",
              "      <td>NaN</td>\n",
              "      <td>NaN</td>\n",
              "      <td>NaN</td>\n",
              "      <td>NaN</td>\n",
              "      <td>NaN</td>\n",
              "      <td>NaN</td>\n",
              "      <td>NaN</td>\n",
              "      <td>NaN</td>\n",
              "      <td>NaN</td>\n",
              "      <td>NaN</td>\n",
              "    </tr>\n",
              "    <tr>\n",
              "      <th>min</th>\n",
              "      <td>0.000000</td>\n",
              "      <td>2.967370e+05</td>\n",
              "      <td>2.967340e+05</td>\n",
              "      <td>1000.000000</td>\n",
              "      <td>1000.000000</td>\n",
              "      <td>400.000000</td>\n",
              "      <td>5.420000</td>\n",
              "      <td>21.740000</td>\n",
              "      <td>6.000000e+03</td>\n",
              "      <td>0.000000</td>\n",
              "      <td>...</td>\n",
              "      <td>NaN</td>\n",
              "      <td>NaN</td>\n",
              "      <td>NaN</td>\n",
              "      <td>NaN</td>\n",
              "      <td>NaN</td>\n",
              "      <td>NaN</td>\n",
              "      <td>NaN</td>\n",
              "      <td>NaN</td>\n",
              "      <td>NaN</td>\n",
              "      <td>NaN</td>\n",
              "    </tr>\n",
              "    <tr>\n",
              "      <th>25%</th>\n",
              "      <td>4565.750000</td>\n",
              "      <td>7.753318e+05</td>\n",
              "      <td>9.769638e+05</td>\n",
              "      <td>6000.000000</td>\n",
              "      <td>6000.000000</td>\n",
              "      <td>5750.000000</td>\n",
              "      <td>8.900000</td>\n",
              "      <td>175.770000</td>\n",
              "      <td>4.200000e+04</td>\n",
              "      <td>8.780000</td>\n",
              "      <td>...</td>\n",
              "      <td>NaN</td>\n",
              "      <td>NaN</td>\n",
              "      <td>NaN</td>\n",
              "      <td>NaN</td>\n",
              "      <td>NaN</td>\n",
              "      <td>NaN</td>\n",
              "      <td>NaN</td>\n",
              "      <td>NaN</td>\n",
              "      <td>NaN</td>\n",
              "      <td>NaN</td>\n",
              "    </tr>\n",
              "    <tr>\n",
              "      <th>50%</th>\n",
              "      <td>9131.500000</td>\n",
              "      <td>8.520165e+05</td>\n",
              "      <td>1.063256e+06</td>\n",
              "      <td>10000.000000</td>\n",
              "      <td>10000.000000</td>\n",
              "      <td>10000.000000</td>\n",
              "      <td>11.990000</td>\n",
              "      <td>301.600000</td>\n",
              "      <td>6.000000e+04</td>\n",
              "      <td>13.970000</td>\n",
              "      <td>...</td>\n",
              "      <td>NaN</td>\n",
              "      <td>NaN</td>\n",
              "      <td>NaN</td>\n",
              "      <td>NaN</td>\n",
              "      <td>NaN</td>\n",
              "      <td>NaN</td>\n",
              "      <td>NaN</td>\n",
              "      <td>NaN</td>\n",
              "      <td>NaN</td>\n",
              "      <td>NaN</td>\n",
              "    </tr>\n",
              "    <tr>\n",
              "      <th>75%</th>\n",
              "      <td>13697.250000</td>\n",
              "      <td>9.968520e+05</td>\n",
              "      <td>1.221109e+06</td>\n",
              "      <td>16000.000000</td>\n",
              "      <td>16000.000000</td>\n",
              "      <td>15800.000000</td>\n",
              "      <td>15.280000</td>\n",
              "      <td>456.540000</td>\n",
              "      <td>8.400000e+04</td>\n",
              "      <td>19.140000</td>\n",
              "      <td>...</td>\n",
              "      <td>NaN</td>\n",
              "      <td>NaN</td>\n",
              "      <td>NaN</td>\n",
              "      <td>NaN</td>\n",
              "      <td>NaN</td>\n",
              "      <td>NaN</td>\n",
              "      <td>NaN</td>\n",
              "      <td>NaN</td>\n",
              "      <td>NaN</td>\n",
              "      <td>NaN</td>\n",
              "    </tr>\n",
              "    <tr>\n",
              "      <th>max</th>\n",
              "      <td>18263.000000</td>\n",
              "      <td>1.077501e+06</td>\n",
              "      <td>1.314167e+06</td>\n",
              "      <td>35000.000000</td>\n",
              "      <td>35000.000000</td>\n",
              "      <td>35000.000000</td>\n",
              "      <td>24.590000</td>\n",
              "      <td>1305.190000</td>\n",
              "      <td>1.782000e+06</td>\n",
              "      <td>29.990000</td>\n",
              "      <td>...</td>\n",
              "      <td>NaN</td>\n",
              "      <td>NaN</td>\n",
              "      <td>NaN</td>\n",
              "      <td>NaN</td>\n",
              "      <td>NaN</td>\n",
              "      <td>NaN</td>\n",
              "      <td>NaN</td>\n",
              "      <td>NaN</td>\n",
              "      <td>NaN</td>\n",
              "      <td>NaN</td>\n",
              "    </tr>\n",
              "  </tbody>\n",
              "</table>\n",
              "<p>8 rows × 53 columns</p>\n",
              "</div>\n",
              "      <button class=\"colab-df-convert\" onclick=\"convertToInteractive('df-2c625579-554c-4338-a800-4ad9b8772393')\"\n",
              "              title=\"Convert this dataframe to an interactive table.\"\n",
              "              style=\"display:none;\">\n",
              "        \n",
              "  <svg xmlns=\"http://www.w3.org/2000/svg\" height=\"24px\"viewBox=\"0 0 24 24\"\n",
              "       width=\"24px\">\n",
              "    <path d=\"M0 0h24v24H0V0z\" fill=\"none\"/>\n",
              "    <path d=\"M18.56 5.44l.94 2.06.94-2.06 2.06-.94-2.06-.94-.94-2.06-.94 2.06-2.06.94zm-11 1L8.5 8.5l.94-2.06 2.06-.94-2.06-.94L8.5 2.5l-.94 2.06-2.06.94zm10 10l.94 2.06.94-2.06 2.06-.94-2.06-.94-.94-2.06-.94 2.06-2.06.94z\"/><path d=\"M17.41 7.96l-1.37-1.37c-.4-.4-.92-.59-1.43-.59-.52 0-1.04.2-1.43.59L10.3 9.45l-7.72 7.72c-.78.78-.78 2.05 0 2.83L4 21.41c.39.39.9.59 1.41.59.51 0 1.02-.2 1.41-.59l7.78-7.78 2.81-2.81c.8-.78.8-2.07 0-2.86zM5.41 20L4 18.59l7.72-7.72 1.47 1.35L5.41 20z\"/>\n",
              "  </svg>\n",
              "      </button>\n",
              "      \n",
              "  <style>\n",
              "    .colab-df-container {\n",
              "      display:flex;\n",
              "      flex-wrap:wrap;\n",
              "      gap: 12px;\n",
              "    }\n",
              "\n",
              "    .colab-df-convert {\n",
              "      background-color: #E8F0FE;\n",
              "      border: none;\n",
              "      border-radius: 50%;\n",
              "      cursor: pointer;\n",
              "      display: none;\n",
              "      fill: #1967D2;\n",
              "      height: 32px;\n",
              "      padding: 0 0 0 0;\n",
              "      width: 32px;\n",
              "    }\n",
              "\n",
              "    .colab-df-convert:hover {\n",
              "      background-color: #E2EBFA;\n",
              "      box-shadow: 0px 1px 2px rgba(60, 64, 67, 0.3), 0px 1px 3px 1px rgba(60, 64, 67, 0.15);\n",
              "      fill: #174EA6;\n",
              "    }\n",
              "\n",
              "    [theme=dark] .colab-df-convert {\n",
              "      background-color: #3B4455;\n",
              "      fill: #D2E3FC;\n",
              "    }\n",
              "\n",
              "    [theme=dark] .colab-df-convert:hover {\n",
              "      background-color: #434B5C;\n",
              "      box-shadow: 0px 1px 3px 1px rgba(0, 0, 0, 0.15);\n",
              "      filter: drop-shadow(0px 1px 2px rgba(0, 0, 0, 0.3));\n",
              "      fill: #FFFFFF;\n",
              "    }\n",
              "  </style>\n",
              "\n",
              "      <script>\n",
              "        const buttonEl =\n",
              "          document.querySelector('#df-2c625579-554c-4338-a800-4ad9b8772393 button.colab-df-convert');\n",
              "        buttonEl.style.display =\n",
              "          google.colab.kernel.accessAllowed ? 'block' : 'none';\n",
              "\n",
              "        async function convertToInteractive(key) {\n",
              "          const element = document.querySelector('#df-2c625579-554c-4338-a800-4ad9b8772393');\n",
              "          const dataTable =\n",
              "            await google.colab.kernel.invokeFunction('convertToInteractive',\n",
              "                                                     [key], {});\n",
              "          if (!dataTable) return;\n",
              "\n",
              "          const docLinkHtml = 'Like what you see? Visit the ' +\n",
              "            '<a target=\"_blank\" href=https://colab.research.google.com/notebooks/data_table.ipynb>data table notebook</a>'\n",
              "            + ' to learn more about interactive tables.';\n",
              "          element.innerHTML = '';\n",
              "          dataTable['output_type'] = 'display_data';\n",
              "          await google.colab.output.renderOutput(dataTable, element);\n",
              "          const docLink = document.createElement('div');\n",
              "          docLink.innerHTML = docLinkHtml;\n",
              "          element.appendChild(docLink);\n",
              "        }\n",
              "      </script>\n",
              "    </div>\n",
              "  </div>\n",
              "  "
            ]
          },
          "metadata": {},
          "execution_count": 9
        }
      ]
    },
    {
      "cell_type": "code",
      "source": [
        "categorical.describe()"
      ],
      "metadata": {
        "colab": {
          "base_uri": "https://localhost:8080/",
          "height": 303
        },
        "id": "5nJQu-yo-Sqj",
        "outputId": "7104af3e-e597-449b-bc77-d50472cd35d7"
      },
      "execution_count": 10,
      "outputs": [
        {
          "output_type": "execute_result",
          "data": {
            "text/plain": [
              "              term  grade sub_grade emp_title emp_length home_ownership  \\\n",
              "count        18263  18263     18263     17076      17632          18263   \n",
              "unique           2      7        35     14329         11              4   \n",
              "top      36 months      B        B3   US Army  10+ years       MORTGAGE   \n",
              "freq         11886   5578      1550        64       4600           8592   \n",
              "\n",
              "       verification_status issue_d loan_status pymnt_plan  ...  \\\n",
              "count                18263   18263       18263      18263  ...   \n",
              "unique                   3      10           7          1  ...   \n",
              "top               Verified  Dec-11  Fully Paid          n  ...   \n",
              "freq                  6589    2267       13730      18263  ...   \n",
              "\n",
              "                   purpose                    title zip_code addr_state  \\\n",
              "count                18263                    18263    18263      18263   \n",
              "unique                  13                     7507      759         45   \n",
              "top     debt_consolidation  Debt Consolidation Loan    112xx         CA   \n",
              "freq                  8949                     1387      243       3225   \n",
              "\n",
              "       earliest_cr_line initial_list_status last_pymnt_d next_pymnt_d  \\\n",
              "count             18263               18263        18228         1786   \n",
              "unique              501                   1           58            2   \n",
              "top              Nov-98                   f       Jan-16       Feb-16   \n",
              "freq                179               18263         1259         1457   \n",
              "\n",
              "       last_credit_pull_d application_type  \n",
              "count               18263            18263  \n",
              "unique                 58                1  \n",
              "top                Jan-16       INDIVIDUAL  \n",
              "freq                 7046            18263  \n",
              "\n",
              "[4 rows x 22 columns]"
            ],
            "text/html": [
              "\n",
              "  <div id=\"df-a90ecfed-29da-42ec-b65c-c4286f63b139\">\n",
              "    <div class=\"colab-df-container\">\n",
              "      <div>\n",
              "<style scoped>\n",
              "    .dataframe tbody tr th:only-of-type {\n",
              "        vertical-align: middle;\n",
              "    }\n",
              "\n",
              "    .dataframe tbody tr th {\n",
              "        vertical-align: top;\n",
              "    }\n",
              "\n",
              "    .dataframe thead th {\n",
              "        text-align: right;\n",
              "    }\n",
              "</style>\n",
              "<table border=\"1\" class=\"dataframe\">\n",
              "  <thead>\n",
              "    <tr style=\"text-align: right;\">\n",
              "      <th></th>\n",
              "      <th>term</th>\n",
              "      <th>grade</th>\n",
              "      <th>sub_grade</th>\n",
              "      <th>emp_title</th>\n",
              "      <th>emp_length</th>\n",
              "      <th>home_ownership</th>\n",
              "      <th>verification_status</th>\n",
              "      <th>issue_d</th>\n",
              "      <th>loan_status</th>\n",
              "      <th>pymnt_plan</th>\n",
              "      <th>...</th>\n",
              "      <th>purpose</th>\n",
              "      <th>title</th>\n",
              "      <th>zip_code</th>\n",
              "      <th>addr_state</th>\n",
              "      <th>earliest_cr_line</th>\n",
              "      <th>initial_list_status</th>\n",
              "      <th>last_pymnt_d</th>\n",
              "      <th>next_pymnt_d</th>\n",
              "      <th>last_credit_pull_d</th>\n",
              "      <th>application_type</th>\n",
              "    </tr>\n",
              "  </thead>\n",
              "  <tbody>\n",
              "    <tr>\n",
              "      <th>count</th>\n",
              "      <td>18263</td>\n",
              "      <td>18263</td>\n",
              "      <td>18263</td>\n",
              "      <td>17076</td>\n",
              "      <td>17632</td>\n",
              "      <td>18263</td>\n",
              "      <td>18263</td>\n",
              "      <td>18263</td>\n",
              "      <td>18263</td>\n",
              "      <td>18263</td>\n",
              "      <td>...</td>\n",
              "      <td>18263</td>\n",
              "      <td>18263</td>\n",
              "      <td>18263</td>\n",
              "      <td>18263</td>\n",
              "      <td>18263</td>\n",
              "      <td>18263</td>\n",
              "      <td>18228</td>\n",
              "      <td>1786</td>\n",
              "      <td>18263</td>\n",
              "      <td>18263</td>\n",
              "    </tr>\n",
              "    <tr>\n",
              "      <th>unique</th>\n",
              "      <td>2</td>\n",
              "      <td>7</td>\n",
              "      <td>35</td>\n",
              "      <td>14329</td>\n",
              "      <td>11</td>\n",
              "      <td>4</td>\n",
              "      <td>3</td>\n",
              "      <td>10</td>\n",
              "      <td>7</td>\n",
              "      <td>1</td>\n",
              "      <td>...</td>\n",
              "      <td>13</td>\n",
              "      <td>7507</td>\n",
              "      <td>759</td>\n",
              "      <td>45</td>\n",
              "      <td>501</td>\n",
              "      <td>1</td>\n",
              "      <td>58</td>\n",
              "      <td>2</td>\n",
              "      <td>58</td>\n",
              "      <td>1</td>\n",
              "    </tr>\n",
              "    <tr>\n",
              "      <th>top</th>\n",
              "      <td>36 months</td>\n",
              "      <td>B</td>\n",
              "      <td>B3</td>\n",
              "      <td>US Army</td>\n",
              "      <td>10+ years</td>\n",
              "      <td>MORTGAGE</td>\n",
              "      <td>Verified</td>\n",
              "      <td>Dec-11</td>\n",
              "      <td>Fully Paid</td>\n",
              "      <td>n</td>\n",
              "      <td>...</td>\n",
              "      <td>debt_consolidation</td>\n",
              "      <td>Debt Consolidation Loan</td>\n",
              "      <td>112xx</td>\n",
              "      <td>CA</td>\n",
              "      <td>Nov-98</td>\n",
              "      <td>f</td>\n",
              "      <td>Jan-16</td>\n",
              "      <td>Feb-16</td>\n",
              "      <td>Jan-16</td>\n",
              "      <td>INDIVIDUAL</td>\n",
              "    </tr>\n",
              "    <tr>\n",
              "      <th>freq</th>\n",
              "      <td>11886</td>\n",
              "      <td>5578</td>\n",
              "      <td>1550</td>\n",
              "      <td>64</td>\n",
              "      <td>4600</td>\n",
              "      <td>8592</td>\n",
              "      <td>6589</td>\n",
              "      <td>2267</td>\n",
              "      <td>13730</td>\n",
              "      <td>18263</td>\n",
              "      <td>...</td>\n",
              "      <td>8949</td>\n",
              "      <td>1387</td>\n",
              "      <td>243</td>\n",
              "      <td>3225</td>\n",
              "      <td>179</td>\n",
              "      <td>18263</td>\n",
              "      <td>1259</td>\n",
              "      <td>1457</td>\n",
              "      <td>7046</td>\n",
              "      <td>18263</td>\n",
              "    </tr>\n",
              "  </tbody>\n",
              "</table>\n",
              "<p>4 rows × 22 columns</p>\n",
              "</div>\n",
              "      <button class=\"colab-df-convert\" onclick=\"convertToInteractive('df-a90ecfed-29da-42ec-b65c-c4286f63b139')\"\n",
              "              title=\"Convert this dataframe to an interactive table.\"\n",
              "              style=\"display:none;\">\n",
              "        \n",
              "  <svg xmlns=\"http://www.w3.org/2000/svg\" height=\"24px\"viewBox=\"0 0 24 24\"\n",
              "       width=\"24px\">\n",
              "    <path d=\"M0 0h24v24H0V0z\" fill=\"none\"/>\n",
              "    <path d=\"M18.56 5.44l.94 2.06.94-2.06 2.06-.94-2.06-.94-.94-2.06-.94 2.06-2.06.94zm-11 1L8.5 8.5l.94-2.06 2.06-.94-2.06-.94L8.5 2.5l-.94 2.06-2.06.94zm10 10l.94 2.06.94-2.06 2.06-.94-2.06-.94-.94-2.06-.94 2.06-2.06.94z\"/><path d=\"M17.41 7.96l-1.37-1.37c-.4-.4-.92-.59-1.43-.59-.52 0-1.04.2-1.43.59L10.3 9.45l-7.72 7.72c-.78.78-.78 2.05 0 2.83L4 21.41c.39.39.9.59 1.41.59.51 0 1.02-.2 1.41-.59l7.78-7.78 2.81-2.81c.8-.78.8-2.07 0-2.86zM5.41 20L4 18.59l7.72-7.72 1.47 1.35L5.41 20z\"/>\n",
              "  </svg>\n",
              "      </button>\n",
              "      \n",
              "  <style>\n",
              "    .colab-df-container {\n",
              "      display:flex;\n",
              "      flex-wrap:wrap;\n",
              "      gap: 12px;\n",
              "    }\n",
              "\n",
              "    .colab-df-convert {\n",
              "      background-color: #E8F0FE;\n",
              "      border: none;\n",
              "      border-radius: 50%;\n",
              "      cursor: pointer;\n",
              "      display: none;\n",
              "      fill: #1967D2;\n",
              "      height: 32px;\n",
              "      padding: 0 0 0 0;\n",
              "      width: 32px;\n",
              "    }\n",
              "\n",
              "    .colab-df-convert:hover {\n",
              "      background-color: #E2EBFA;\n",
              "      box-shadow: 0px 1px 2px rgba(60, 64, 67, 0.3), 0px 1px 3px 1px rgba(60, 64, 67, 0.15);\n",
              "      fill: #174EA6;\n",
              "    }\n",
              "\n",
              "    [theme=dark] .colab-df-convert {\n",
              "      background-color: #3B4455;\n",
              "      fill: #D2E3FC;\n",
              "    }\n",
              "\n",
              "    [theme=dark] .colab-df-convert:hover {\n",
              "      background-color: #434B5C;\n",
              "      box-shadow: 0px 1px 3px 1px rgba(0, 0, 0, 0.15);\n",
              "      filter: drop-shadow(0px 1px 2px rgba(0, 0, 0, 0.3));\n",
              "      fill: #FFFFFF;\n",
              "    }\n",
              "  </style>\n",
              "\n",
              "      <script>\n",
              "        const buttonEl =\n",
              "          document.querySelector('#df-a90ecfed-29da-42ec-b65c-c4286f63b139 button.colab-df-convert');\n",
              "        buttonEl.style.display =\n",
              "          google.colab.kernel.accessAllowed ? 'block' : 'none';\n",
              "\n",
              "        async function convertToInteractive(key) {\n",
              "          const element = document.querySelector('#df-a90ecfed-29da-42ec-b65c-c4286f63b139');\n",
              "          const dataTable =\n",
              "            await google.colab.kernel.invokeFunction('convertToInteractive',\n",
              "                                                     [key], {});\n",
              "          if (!dataTable) return;\n",
              "\n",
              "          const docLinkHtml = 'Like what you see? Visit the ' +\n",
              "            '<a target=\"_blank\" href=https://colab.research.google.com/notebooks/data_table.ipynb>data table notebook</a>'\n",
              "            + ' to learn more about interactive tables.';\n",
              "          element.innerHTML = '';\n",
              "          dataTable['output_type'] = 'display_data';\n",
              "          await google.colab.output.renderOutput(dataTable, element);\n",
              "          const docLink = document.createElement('div');\n",
              "          docLink.innerHTML = docLinkHtml;\n",
              "          element.appendChild(docLink);\n",
              "        }\n",
              "      </script>\n",
              "    </div>\n",
              "  </div>\n",
              "  "
            ]
          },
          "metadata": {},
          "execution_count": 10
        }
      ]
    },
    {
      "cell_type": "code",
      "source": [
        "cols_to_drop = [\n",
        "    'Unnamed: 0',\n",
        "    # unique id\n",
        "    'id'\n",
        "    , 'member_id'\n",
        "    \n",
        "    # free text\n",
        "    , 'url'\n",
        "    , 'desc'\n",
        "    \n",
        "    # all null / constant / others\n",
        "    , 'zip_code' \n",
        "    , 'annual_inc_joint'\n",
        "    , 'dti_joint'\n",
        "    , 'verification_status_joint'\n",
        "    , 'open_acc_6m'\n",
        "    , 'open_il_6m'\n",
        "    , 'open_il_12m'\n",
        "    , 'open_il_24m'\n",
        "    , 'mths_since_rcnt_il'\n",
        "    , 'total_bal_il'\n",
        "    , 'il_util'\n",
        "    , 'open_rv_12m'\n",
        "    , 'open_rv_24m'\n",
        "    , 'max_bal_bc'\n",
        "    , 'all_util'\n",
        "    , 'inq_fi'\n",
        "    , 'total_cu_tl'\n",
        "    , 'inq_last_12m'\n",
        "    \n",
        "    # expert judgment\n",
        "    , 'sub_grade'\n",
        "]"
      ],
      "metadata": {
        "id": "c5RhvaZi-aqk"
      },
      "execution_count": 11,
      "outputs": []
    },
    {
      "cell_type": "code",
      "source": [
        "df = df.drop(cols_to_drop, axis=1)"
      ],
      "metadata": {
        "id": "dgjo6DT0D2A6"
      },
      "execution_count": 12,
      "outputs": []
    },
    {
      "cell_type": "code",
      "source": [
        "df.info()"
      ],
      "metadata": {
        "colab": {
          "base_uri": "https://localhost:8080/"
        },
        "id": "PsP61LLbD4ZT",
        "outputId": "280d745a-d3a4-4ce2-c949-5579451f8fe9"
      },
      "execution_count": 13,
      "outputs": [
        {
          "output_type": "stream",
          "name": "stdout",
          "text": [
            "<class 'pandas.core.frame.DataFrame'>\n",
            "RangeIndex: 18264 entries, 0 to 18263\n",
            "Data columns (total 51 columns):\n",
            " #   Column                       Non-Null Count  Dtype  \n",
            "---  ------                       --------------  -----  \n",
            " 0   loan_amnt                    18264 non-null  int64  \n",
            " 1   funded_amnt                  18264 non-null  int64  \n",
            " 2   funded_amnt_inv              18264 non-null  float64\n",
            " 3   term                         18263 non-null  object \n",
            " 4   int_rate                     18263 non-null  float64\n",
            " 5   installment                  18263 non-null  float64\n",
            " 6   grade                        18263 non-null  object \n",
            " 7   emp_title                    17076 non-null  object \n",
            " 8   emp_length                   17632 non-null  object \n",
            " 9   home_ownership               18263 non-null  object \n",
            " 10  annual_inc                   18263 non-null  float64\n",
            " 11  verification_status          18263 non-null  object \n",
            " 12  issue_d                      18263 non-null  object \n",
            " 13  loan_status                  18263 non-null  object \n",
            " 14  pymnt_plan                   18263 non-null  object \n",
            " 15  purpose                      18263 non-null  object \n",
            " 16  title                        18263 non-null  object \n",
            " 17  addr_state                   18263 non-null  object \n",
            " 18  dti                          18263 non-null  float64\n",
            " 19  delinq_2yrs                  18263 non-null  float64\n",
            " 20  earliest_cr_line             18263 non-null  object \n",
            " 21  inq_last_6mths               18263 non-null  float64\n",
            " 22  mths_since_last_delinq       6177 non-null   float64\n",
            " 23  mths_since_last_record       946 non-null    float64\n",
            " 24  open_acc                     18263 non-null  float64\n",
            " 25  pub_rec                      18263 non-null  float64\n",
            " 26  revol_bal                    18263 non-null  float64\n",
            " 27  revol_util                   18254 non-null  float64\n",
            " 28  total_acc                    18263 non-null  float64\n",
            " 29  initial_list_status          18263 non-null  object \n",
            " 30  out_prncp                    18263 non-null  float64\n",
            " 31  out_prncp_inv                18263 non-null  float64\n",
            " 32  total_pymnt                  18263 non-null  float64\n",
            " 33  total_pymnt_inv              18263 non-null  float64\n",
            " 34  total_rec_prncp              18263 non-null  float64\n",
            " 35  total_rec_int                18263 non-null  float64\n",
            " 36  total_rec_late_fee           18263 non-null  float64\n",
            " 37  recoveries                   18263 non-null  float64\n",
            " 38  collection_recovery_fee      18263 non-null  float64\n",
            " 39  last_pymnt_d                 18228 non-null  object \n",
            " 40  last_pymnt_amnt              18263 non-null  float64\n",
            " 41  next_pymnt_d                 1786 non-null   object \n",
            " 42  last_credit_pull_d           18263 non-null  object \n",
            " 43  collections_12_mths_ex_med   18263 non-null  float64\n",
            " 44  mths_since_last_major_derog  0 non-null      float64\n",
            " 45  policy_code                  18263 non-null  float64\n",
            " 46  application_type             18263 non-null  object \n",
            " 47  acc_now_delinq               18263 non-null  float64\n",
            " 48  tot_coll_amt                 0 non-null      float64\n",
            " 49  tot_cur_bal                  0 non-null      float64\n",
            " 50  total_rev_hi_lim             0 non-null      float64\n",
            "dtypes: float64(31), int64(2), object(18)\n",
            "memory usage: 7.1+ MB\n"
          ]
        }
      ]
    },
    {
      "cell_type": "markdown",
      "source": [
        "# Target and Labeling"
      ],
      "metadata": {
        "id": "W3VMN9dEENpz"
      }
    },
    {
      "cell_type": "code",
      "source": [
        "df.loan_status.value_counts(normalize=True)*100"
      ],
      "metadata": {
        "colab": {
          "base_uri": "https://localhost:8080/"
        },
        "id": "shKHALFuFLj3",
        "outputId": "92e2f74e-4a03-49cf-d68d-be6fd513ccf3"
      },
      "execution_count": 14,
      "outputs": [
        {
          "output_type": "execute_result",
          "data": {
            "text/plain": [
              "Fully Paid            75.179324\n",
              "Charged Off           15.041340\n",
              "Current                9.374144\n",
              "Late (31-120 days)     0.235449\n",
              "In Grace Period        0.076658\n",
              "Late (16-30 days)      0.060231\n",
              "Default                0.032853\n",
              "Name: loan_status, dtype: float64"
            ]
          },
          "metadata": {},
          "execution_count": 14
        }
      ]
    },
    {
      "cell_type": "code",
      "source": [
        "bad_status = [\n",
        "    'Charged Off' \n",
        "    , 'Default' \n",
        "    , 'Does not meet the credit policy. Status:Charged Off'\n",
        "    , 'Late (31-120 days)'\n",
        "]\n",
        "\n",
        "df['bad_credit'] = np.where(df['loan_status'].isin(bad_status), 1, 0)"
      ],
      "metadata": {
        "id": "XX3aWcPDEVVQ"
      },
      "execution_count": 15,
      "outputs": []
    },
    {
      "cell_type": "code",
      "source": [
        "df['bad_credit'].value_counts(normalize=True)*100"
      ],
      "metadata": {
        "colab": {
          "base_uri": "https://localhost:8080/"
        },
        "id": "u2XLkwM6_T4y",
        "outputId": "b81d903e-dd53-405f-e486-9d244d609e10"
      },
      "execution_count": 17,
      "outputs": [
        {
          "output_type": "execute_result",
          "data": {
            "text/plain": [
              "0    84.691196\n",
              "1    15.308804\n",
              "Name: bad_credit, dtype: float64"
            ]
          },
          "metadata": {},
          "execution_count": 17
        }
      ]
    },
    {
      "cell_type": "code",
      "source": [
        "df.drop('loan_status', axis=1, inplace=True)"
      ],
      "metadata": {
        "id": "Eme3CMdCERbj"
      },
      "execution_count": 18,
      "outputs": []
    },
    {
      "cell_type": "markdown",
      "source": [
        "# Preprocessing"
      ],
      "metadata": {
        "id": "lv7IzY4oEWGX"
      }
    },
    {
      "cell_type": "markdown",
      "source": [
        "## Feature Engineering"
      ],
      "metadata": {
        "id": "YSveB9EuE-Tu"
      }
    },
    {
      "cell_type": "markdown",
      "source": [
        "### emp_length"
      ],
      "metadata": {
        "id": "taQyJJq-FEOd"
      }
    },
    {
      "cell_type": "code",
      "source": [
        "df['emp_length'].unique()"
      ],
      "metadata": {
        "colab": {
          "base_uri": "https://localhost:8080/"
        },
        "id": "5NyLH5WcEs84",
        "outputId": "abb398b8-1191-46b6-fe87-b105b6224781"
      },
      "execution_count": 19,
      "outputs": [
        {
          "output_type": "execute_result",
          "data": {
            "text/plain": [
              "array(['10+ years', '< 1 year', '1 year', '3 years', '8 years', '9 years',\n",
              "       '4 years', '5 years', '6 years', '2 years', '7 years', nan],\n",
              "      dtype=object)"
            ]
          },
          "metadata": {},
          "execution_count": 19
        }
      ]
    },
    {
      "cell_type": "code",
      "source": [
        "df['emp_length'] = df['emp_length'].str.replace('\\+ years', '')\n",
        "df['emp_length'] = df['emp_length'].str.replace('< 1 year', str(0))\n",
        "df['emp_length'] = df['emp_length'].str.replace(' years', '')\n",
        "df['emp_length'] = df['emp_length'].str.replace(' year', '')"
      ],
      "metadata": {
        "id": "6OpR0HXNFLEo"
      },
      "execution_count": 20,
      "outputs": []
    },
    {
      "cell_type": "code",
      "source": [
        "df['emp_length'] = df['emp_length'].astype(float)"
      ],
      "metadata": {
        "id": "OtPNMyt6FM3K"
      },
      "execution_count": 21,
      "outputs": []
    },
    {
      "cell_type": "code",
      "source": [
        "df['emp_length'].describe()"
      ],
      "metadata": {
        "colab": {
          "base_uri": "https://localhost:8080/"
        },
        "id": "LJamxT9tFOk6",
        "outputId": "faedc70b-b160-4035-b43c-855c0590a9fb"
      },
      "execution_count": 22,
      "outputs": [
        {
          "output_type": "execute_result",
          "data": {
            "text/plain": [
              "count    17632.000000\n",
              "mean         5.353051\n",
              "std          3.537921\n",
              "min          0.000000\n",
              "25%          2.000000\n",
              "50%          5.000000\n",
              "75%         10.000000\n",
              "max         10.000000\n",
              "Name: emp_length, dtype: float64"
            ]
          },
          "metadata": {},
          "execution_count": 22
        }
      ]
    },
    {
      "cell_type": "markdown",
      "source": [
        "### term"
      ],
      "metadata": {
        "id": "2z4P8DCtFTM7"
      }
    },
    {
      "cell_type": "code",
      "source": [
        "df['term'].unique()"
      ],
      "metadata": {
        "colab": {
          "base_uri": "https://localhost:8080/"
        },
        "id": "giIDHczTFP8B",
        "outputId": "591f94c9-0353-4e74-e918-6786d17b62c8"
      },
      "execution_count": 23,
      "outputs": [
        {
          "output_type": "execute_result",
          "data": {
            "text/plain": [
              "array([' 36 months', ' 60 months', nan], dtype=object)"
            ]
          },
          "metadata": {},
          "execution_count": 23
        }
      ]
    },
    {
      "cell_type": "code",
      "source": [
        "df['term'] = df['term'].str.replace(' months', '')\n",
        "df['term'] = df['term'].astype(float)"
      ],
      "metadata": {
        "id": "KCkFXVyqFWVZ"
      },
      "execution_count": 24,
      "outputs": []
    },
    {
      "cell_type": "code",
      "source": [
        "df['term'].describe()"
      ],
      "metadata": {
        "colab": {
          "base_uri": "https://localhost:8080/"
        },
        "id": "Tj_1bHq8FYJ3",
        "outputId": "ef4a85ac-af7a-4088-8213-949a743fa1c6"
      },
      "execution_count": 25,
      "outputs": [
        {
          "output_type": "execute_result",
          "data": {
            "text/plain": [
              "count    18263.000000\n",
              "mean        44.380222\n",
              "std         11.441345\n",
              "min         36.000000\n",
              "25%         36.000000\n",
              "50%         36.000000\n",
              "75%         60.000000\n",
              "max         60.000000\n",
              "Name: term, dtype: float64"
            ]
          },
          "metadata": {},
          "execution_count": 25
        }
      ]
    },
    {
      "cell_type": "markdown",
      "source": [
        "### earliest_cr_line"
      ],
      "metadata": {
        "id": "5Jng_JUFFbp-"
      }
    },
    {
      "cell_type": "code",
      "source": [
        "df['earliest_cr_line'].head(5)"
      ],
      "metadata": {
        "colab": {
          "base_uri": "https://localhost:8080/"
        },
        "id": "tbLE42IaFZq-",
        "outputId": "ba63fdda-25ba-4260-9e12-a556e32e0e2c"
      },
      "execution_count": 26,
      "outputs": [
        {
          "output_type": "execute_result",
          "data": {
            "text/plain": [
              "0    Jan-85\n",
              "1    Apr-99\n",
              "2    Nov-01\n",
              "3    Feb-96\n",
              "4    Jan-96\n",
              "Name: earliest_cr_line, dtype: object"
            ]
          },
          "metadata": {},
          "execution_count": 26
        }
      ]
    },
    {
      "cell_type": "code",
      "source": [
        "df['earliest_cr_line_date'] = pd.to_datetime(df['earliest_cr_line'], format='%b-%y')\n",
        "df['earliest_cr_line_date'].head(3)"
      ],
      "metadata": {
        "colab": {
          "base_uri": "https://localhost:8080/"
        },
        "id": "mZXSgnQVFeLq",
        "outputId": "5e240b21-1670-4d98-dba4-8cd7659141b9"
      },
      "execution_count": 27,
      "outputs": [
        {
          "output_type": "execute_result",
          "data": {
            "text/plain": [
              "0   1985-01-01\n",
              "1   1999-04-01\n",
              "2   2001-11-01\n",
              "Name: earliest_cr_line_date, dtype: datetime64[ns]"
            ]
          },
          "metadata": {},
          "execution_count": 27
        }
      ]
    },
    {
      "cell_type": "code",
      "source": [
        "df['mths_earliest_cr_line'] = round(pd.to_numeric((pd.to_datetime('2017-12-31') - df['earliest_cr_line_date']) / np.timedelta64(1, 'M')))\n",
        "df['mths_earliest_cr_line'].head(3)"
      ],
      "metadata": {
        "colab": {
          "base_uri": "https://localhost:8080/"
        },
        "id": "hUFwPUFKFfok",
        "outputId": "f633e653-0386-40c2-fc6f-9303c06ebaf2"
      },
      "execution_count": 28,
      "outputs": [
        {
          "output_type": "execute_result",
          "data": {
            "text/plain": [
              "0    396.0\n",
              "1    225.0\n",
              "2    194.0\n",
              "Name: mths_earliest_cr_line, dtype: float64"
            ]
          },
          "metadata": {},
          "execution_count": 28
        }
      ]
    },
    {
      "cell_type": "code",
      "source": [
        "df['mths_earliest_cr_line'].describe()"
      ],
      "metadata": {
        "colab": {
          "base_uri": "https://localhost:8080/"
        },
        "id": "XeuV7FLTFi_L",
        "outputId": "834f81ce-ac05-4bbc-f1b2-3e3e1b143e29"
      },
      "execution_count": 29,
      "outputs": [
        {
          "output_type": "execute_result",
          "data": {
            "text/plain": [
              "count    18263.000000\n",
              "mean       245.225976\n",
              "std         91.251327\n",
              "min       -608.000000\n",
              "25%        193.000000\n",
              "50%        231.000000\n",
              "75%        287.000000\n",
              "max        587.000000\n",
              "Name: mths_earliest_cr_line, dtype: float64"
            ]
          },
          "metadata": {},
          "execution_count": 29
        }
      ]
    },
    {
      "cell_type": "code",
      "source": [
        "df[df['mths_earliest_cr_line']<0][['earliest_cr_line', 'earliest_cr_line_date', 'mths_earliest_cr_line']].head(3)"
      ],
      "metadata": {
        "colab": {
          "base_uri": "https://localhost:8080/",
          "height": 144
        },
        "id": "VfjMduCVFloW",
        "outputId": "25fd7d9b-940c-4b2d-96cd-6ba6f9eadd01"
      },
      "execution_count": 30,
      "outputs": [
        {
          "output_type": "execute_result",
          "data": {
            "text/plain": [
              "     earliest_cr_line earliest_cr_line_date  mths_earliest_cr_line\n",
              "1580           Sep-62            2062-09-01                 -536.0\n",
              "1770           Sep-68            2068-09-01                 -608.0\n",
              "2799           Sep-64            2064-09-01                 -560.0"
            ],
            "text/html": [
              "\n",
              "  <div id=\"df-b1a690b4-2dca-42cc-a67a-ce5c8f50d3ac\">\n",
              "    <div class=\"colab-df-container\">\n",
              "      <div>\n",
              "<style scoped>\n",
              "    .dataframe tbody tr th:only-of-type {\n",
              "        vertical-align: middle;\n",
              "    }\n",
              "\n",
              "    .dataframe tbody tr th {\n",
              "        vertical-align: top;\n",
              "    }\n",
              "\n",
              "    .dataframe thead th {\n",
              "        text-align: right;\n",
              "    }\n",
              "</style>\n",
              "<table border=\"1\" class=\"dataframe\">\n",
              "  <thead>\n",
              "    <tr style=\"text-align: right;\">\n",
              "      <th></th>\n",
              "      <th>earliest_cr_line</th>\n",
              "      <th>earliest_cr_line_date</th>\n",
              "      <th>mths_earliest_cr_line</th>\n",
              "    </tr>\n",
              "  </thead>\n",
              "  <tbody>\n",
              "    <tr>\n",
              "      <th>1580</th>\n",
              "      <td>Sep-62</td>\n",
              "      <td>2062-09-01</td>\n",
              "      <td>-536.0</td>\n",
              "    </tr>\n",
              "    <tr>\n",
              "      <th>1770</th>\n",
              "      <td>Sep-68</td>\n",
              "      <td>2068-09-01</td>\n",
              "      <td>-608.0</td>\n",
              "    </tr>\n",
              "    <tr>\n",
              "      <th>2799</th>\n",
              "      <td>Sep-64</td>\n",
              "      <td>2064-09-01</td>\n",
              "      <td>-560.0</td>\n",
              "    </tr>\n",
              "  </tbody>\n",
              "</table>\n",
              "</div>\n",
              "      <button class=\"colab-df-convert\" onclick=\"convertToInteractive('df-b1a690b4-2dca-42cc-a67a-ce5c8f50d3ac')\"\n",
              "              title=\"Convert this dataframe to an interactive table.\"\n",
              "              style=\"display:none;\">\n",
              "        \n",
              "  <svg xmlns=\"http://www.w3.org/2000/svg\" height=\"24px\"viewBox=\"0 0 24 24\"\n",
              "       width=\"24px\">\n",
              "    <path d=\"M0 0h24v24H0V0z\" fill=\"none\"/>\n",
              "    <path d=\"M18.56 5.44l.94 2.06.94-2.06 2.06-.94-2.06-.94-.94-2.06-.94 2.06-2.06.94zm-11 1L8.5 8.5l.94-2.06 2.06-.94-2.06-.94L8.5 2.5l-.94 2.06-2.06.94zm10 10l.94 2.06.94-2.06 2.06-.94-2.06-.94-.94-2.06-.94 2.06-2.06.94z\"/><path d=\"M17.41 7.96l-1.37-1.37c-.4-.4-.92-.59-1.43-.59-.52 0-1.04.2-1.43.59L10.3 9.45l-7.72 7.72c-.78.78-.78 2.05 0 2.83L4 21.41c.39.39.9.59 1.41.59.51 0 1.02-.2 1.41-.59l7.78-7.78 2.81-2.81c.8-.78.8-2.07 0-2.86zM5.41 20L4 18.59l7.72-7.72 1.47 1.35L5.41 20z\"/>\n",
              "  </svg>\n",
              "      </button>\n",
              "      \n",
              "  <style>\n",
              "    .colab-df-container {\n",
              "      display:flex;\n",
              "      flex-wrap:wrap;\n",
              "      gap: 12px;\n",
              "    }\n",
              "\n",
              "    .colab-df-convert {\n",
              "      background-color: #E8F0FE;\n",
              "      border: none;\n",
              "      border-radius: 50%;\n",
              "      cursor: pointer;\n",
              "      display: none;\n",
              "      fill: #1967D2;\n",
              "      height: 32px;\n",
              "      padding: 0 0 0 0;\n",
              "      width: 32px;\n",
              "    }\n",
              "\n",
              "    .colab-df-convert:hover {\n",
              "      background-color: #E2EBFA;\n",
              "      box-shadow: 0px 1px 2px rgba(60, 64, 67, 0.3), 0px 1px 3px 1px rgba(60, 64, 67, 0.15);\n",
              "      fill: #174EA6;\n",
              "    }\n",
              "\n",
              "    [theme=dark] .colab-df-convert {\n",
              "      background-color: #3B4455;\n",
              "      fill: #D2E3FC;\n",
              "    }\n",
              "\n",
              "    [theme=dark] .colab-df-convert:hover {\n",
              "      background-color: #434B5C;\n",
              "      box-shadow: 0px 1px 3px 1px rgba(0, 0, 0, 0.15);\n",
              "      filter: drop-shadow(0px 1px 2px rgba(0, 0, 0, 0.3));\n",
              "      fill: #FFFFFF;\n",
              "    }\n",
              "  </style>\n",
              "\n",
              "      <script>\n",
              "        const buttonEl =\n",
              "          document.querySelector('#df-b1a690b4-2dca-42cc-a67a-ce5c8f50d3ac button.colab-df-convert');\n",
              "        buttonEl.style.display =\n",
              "          google.colab.kernel.accessAllowed ? 'block' : 'none';\n",
              "\n",
              "        async function convertToInteractive(key) {\n",
              "          const element = document.querySelector('#df-b1a690b4-2dca-42cc-a67a-ce5c8f50d3ac');\n",
              "          const dataTable =\n",
              "            await google.colab.kernel.invokeFunction('convertToInteractive',\n",
              "                                                     [key], {});\n",
              "          if (!dataTable) return;\n",
              "\n",
              "          const docLinkHtml = 'Like what you see? Visit the ' +\n",
              "            '<a target=\"_blank\" href=https://colab.research.google.com/notebooks/data_table.ipynb>data table notebook</a>'\n",
              "            + ' to learn more about interactive tables.';\n",
              "          element.innerHTML = '';\n",
              "          dataTable['output_type'] = 'display_data';\n",
              "          await google.colab.output.renderOutput(dataTable, element);\n",
              "          const docLink = document.createElement('div');\n",
              "          docLink.innerHTML = docLinkHtml;\n",
              "          element.appendChild(docLink);\n",
              "        }\n",
              "      </script>\n",
              "    </div>\n",
              "  </div>\n",
              "  "
            ]
          },
          "metadata": {},
          "execution_count": 30
        }
      ]
    },
    {
      "cell_type": "code",
      "source": [
        "df.loc[df['mths_earliest_cr_line']<0, 'mths_earliest_cr_line'] = df['mths_earliest_cr_line'].max()"
      ],
      "metadata": {
        "id": "64da8TotFnS8"
      },
      "execution_count": 31,
      "outputs": []
    },
    {
      "cell_type": "code",
      "source": [
        "df.drop(['earliest_cr_line', 'earliest_cr_line_date'], axis=1, inplace=True)"
      ],
      "metadata": {
        "id": "Tlz_4QCxFo6l"
      },
      "execution_count": 32,
      "outputs": []
    },
    {
      "cell_type": "code",
      "source": [
        "df['mths_earliest_cr_line'].describe()"
      ],
      "metadata": {
        "colab": {
          "base_uri": "https://localhost:8080/"
        },
        "id": "NiOVCBFFFqdL",
        "outputId": "78297521-0b8a-4052-f2ed-154cc0cf27fd"
      },
      "execution_count": 33,
      "outputs": [
        {
          "output_type": "execute_result",
          "data": {
            "text/plain": [
              "count    18263.000000\n",
              "mean       248.244812\n",
              "std         83.102191\n",
              "min        110.000000\n",
              "25%        193.000000\n",
              "50%        232.000000\n",
              "75%        288.000000\n",
              "max        587.000000\n",
              "Name: mths_earliest_cr_line, dtype: float64"
            ]
          },
          "metadata": {},
          "execution_count": 33
        }
      ]
    },
    {
      "cell_type": "markdown",
      "source": [
        "### issue_d"
      ],
      "metadata": {
        "id": "C-pLy2cfFtdw"
      }
    },
    {
      "cell_type": "code",
      "source": [
        "df['issue_d_date'] = pd.to_datetime(df['issue_d'], format='%b-%y')\n",
        "df['mths_issue_d'] = round(pd.to_numeric((pd.to_datetime('2017-12-31') - df['issue_d_date']) / np.timedelta64(1, 'M')))"
      ],
      "metadata": {
        "id": "pPqnmUWdFr-K"
      },
      "execution_count": 34,
      "outputs": []
    },
    {
      "cell_type": "code",
      "source": [
        "df.drop(['issue_d', 'issue_d_date'], axis=1, inplace=True)"
      ],
      "metadata": {
        "id": "-nYDqU42FwW7"
      },
      "execution_count": 35,
      "outputs": []
    },
    {
      "cell_type": "code",
      "source": [
        "df['mths_issue_d'].describe()"
      ],
      "metadata": {
        "colab": {
          "base_uri": "https://localhost:8080/"
        },
        "id": "VcSsvNmEFxmW",
        "outputId": "fa6b1830-3956-4a0b-df5d-1bc4c9a6f641"
      },
      "execution_count": 36,
      "outputs": [
        {
          "output_type": "execute_result",
          "data": {
            "text/plain": [
              "count    18263.000000\n",
              "mean        76.900509\n",
              "std          2.698542\n",
              "min         73.000000\n",
              "25%         75.000000\n",
              "50%         77.000000\n",
              "75%         79.000000\n",
              "max         82.000000\n",
              "Name: mths_issue_d, dtype: float64"
            ]
          },
          "metadata": {},
          "execution_count": 36
        }
      ]
    },
    {
      "cell_type": "markdown",
      "source": [
        "### last_pymnt_d"
      ],
      "metadata": {
        "id": "IzaV12uAG1h6"
      }
    },
    {
      "cell_type": "code",
      "source": [
        "df['last_pymnt_d_date'] = pd.to_datetime(df['last_pymnt_d'], format='%b-%y')\n",
        "df['mths_last_pymnt_d'] = round(pd.to_numeric((pd.to_datetime('2017-12-31') - df['last_pymnt_d_date']) / np.timedelta64(1, 'M')))"
      ],
      "metadata": {
        "id": "z7o5BmRLFy47"
      },
      "execution_count": 37,
      "outputs": []
    },
    {
      "cell_type": "code",
      "source": [
        "df.drop(['last_pymnt_d', 'last_pymnt_d_date'], axis=1, inplace=True)"
      ],
      "metadata": {
        "id": "w0aZ6JGnG41E"
      },
      "execution_count": 38,
      "outputs": []
    },
    {
      "cell_type": "code",
      "source": [
        "df['mths_last_pymnt_d'].describe()"
      ],
      "metadata": {
        "colab": {
          "base_uri": "https://localhost:8080/"
        },
        "id": "-tXXT4ikG6P3",
        "outputId": "6d32a93e-98df-4fca-dd3c-b683e1f5a5db"
      },
      "execution_count": 39,
      "outputs": [
        {
          "output_type": "execute_result",
          "data": {
            "text/plain": [
              "count    18228.000000\n",
              "mean        47.862903\n",
              "std         14.068561\n",
              "min         24.000000\n",
              "25%         39.000000\n",
              "50%         45.000000\n",
              "75%         59.000000\n",
              "max         81.000000\n",
              "Name: mths_last_pymnt_d, dtype: float64"
            ]
          },
          "metadata": {},
          "execution_count": 39
        }
      ]
    },
    {
      "cell_type": "markdown",
      "source": [
        "### next_pymnt_d"
      ],
      "metadata": {
        "id": "CzcqnT45G9Bp"
      }
    },
    {
      "cell_type": "code",
      "source": [
        "df['next_pymnt_d_date'] = pd.to_datetime(df['next_pymnt_d'], format='%b-%y')\n",
        "df['mths_next_pymnt_d'] = round(pd.to_numeric((pd.to_datetime('2017-12-31') - df['next_pymnt_d_date']) / np.timedelta64(1, 'M')))"
      ],
      "metadata": {
        "id": "JBttMnFwG7dp"
      },
      "execution_count": 40,
      "outputs": []
    },
    {
      "cell_type": "code",
      "source": [
        "df.drop(['next_pymnt_d', 'next_pymnt_d_date'], axis=1, inplace=True)"
      ],
      "metadata": {
        "id": "XXCxx4ZIHBa-"
      },
      "execution_count": 41,
      "outputs": []
    },
    {
      "cell_type": "code",
      "source": [
        "df['mths_next_pymnt_d'].describe()"
      ],
      "metadata": {
        "colab": {
          "base_uri": "https://localhost:8080/"
        },
        "id": "mkakCZ9uHDpF",
        "outputId": "5a0f5573-5515-4bdd-f24c-68e8f652bdab"
      },
      "execution_count": 42,
      "outputs": [
        {
          "output_type": "execute_result",
          "data": {
            "text/plain": [
              "count    1786.000000\n",
              "mean       23.184211\n",
              "std         0.387764\n",
              "min        23.000000\n",
              "25%        23.000000\n",
              "50%        23.000000\n",
              "75%        23.000000\n",
              "max        24.000000\n",
              "Name: mths_next_pymnt_d, dtype: float64"
            ]
          },
          "metadata": {},
          "execution_count": 42
        }
      ]
    },
    {
      "cell_type": "markdown",
      "source": [
        "### last_credit_pull_d"
      ],
      "metadata": {
        "id": "fCNP1-CMHKJD"
      }
    },
    {
      "cell_type": "code",
      "source": [
        "df['last_credit_pull_d_date'] = pd.to_datetime(df['last_credit_pull_d'], format='%b-%y')\n",
        "df['mths_last_credit_pull_d'] = round(pd.to_numeric((pd.to_datetime('2017-12-31') - df['last_credit_pull_d_date']) / np.timedelta64(1, 'M')))"
      ],
      "metadata": {
        "id": "xZeZ1h-WHE4r"
      },
      "execution_count": 43,
      "outputs": []
    },
    {
      "cell_type": "code",
      "source": [
        "df.drop(['last_credit_pull_d', 'last_credit_pull_d_date'], axis=1, inplace=True)"
      ],
      "metadata": {
        "id": "iYOy7xkVHMmK"
      },
      "execution_count": 44,
      "outputs": []
    },
    {
      "cell_type": "code",
      "source": [
        "df['mths_last_credit_pull_d'].describe()"
      ],
      "metadata": {
        "colab": {
          "base_uri": "https://localhost:8080/"
        },
        "id": "ylA4Tl8ZHOD1",
        "outputId": "1b70e4d7-022d-47e9-bafc-9783d0f768cf"
      },
      "execution_count": 45,
      "outputs": [
        {
          "output_type": "execute_result",
          "data": {
            "text/plain": [
              "count    18263.000000\n",
              "mean        36.547829\n",
              "std         14.257934\n",
              "min         24.000000\n",
              "25%         24.000000\n",
              "50%         32.000000\n",
              "75%         45.000000\n",
              "max         81.000000\n",
              "Name: mths_last_credit_pull_d, dtype: float64"
            ]
          },
          "metadata": {},
          "execution_count": 45
        }
      ]
    },
    {
      "cell_type": "markdown",
      "source": [
        "## Handling Missing Values"
      ],
      "metadata": {
        "id": "7GYOPclbHRaT"
      }
    },
    {
      "cell_type": "markdown",
      "source": [
        "### Check"
      ],
      "metadata": {
        "id": "Rqr_OPLRHVLw"
      }
    },
    {
      "cell_type": "code",
      "source": [
        "# print the name of columns with missing values (so I can copy paste :D)\n",
        "missing = df.isnull().sum() * 100 / df.shape[0]\n",
        "missing[missing > 0].sort_values(ascending=False)"
      ],
      "metadata": {
        "colab": {
          "base_uri": "https://localhost:8080/"
        },
        "id": "XonT7EIQHP5u",
        "outputId": "04b963e8-53b4-40a7-950f-608c8cf27ea0"
      },
      "execution_count": 46,
      "outputs": [
        {
          "output_type": "execute_result",
          "data": {
            "text/plain": [
              "tot_cur_bal                    100.000000\n",
              "total_rev_hi_lim               100.000000\n",
              "mths_since_last_major_derog    100.000000\n",
              "tot_coll_amt                   100.000000\n",
              "mths_since_last_record          94.820412\n",
              "mths_next_pymnt_d               90.221200\n",
              "mths_since_last_delinq          66.179369\n",
              "emp_title                        6.504599\n",
              "emp_length                       3.460359\n",
              "mths_last_pymnt_d                0.197109\n",
              "revol_util                       0.054753\n",
              "total_rec_prncp                  0.005475\n",
              "total_rec_int                    0.005475\n",
              "last_pymnt_amnt                  0.005475\n",
              "total_rec_late_fee               0.005475\n",
              "recoveries                       0.005475\n",
              "collection_recovery_fee          0.005475\n",
              "term                             0.005475\n",
              "policy_code                      0.005475\n",
              "collections_12_mths_ex_med       0.005475\n",
              "total_pymnt                      0.005475\n",
              "application_type                 0.005475\n",
              "acc_now_delinq                   0.005475\n",
              "mths_earliest_cr_line            0.005475\n",
              "mths_issue_d                     0.005475\n",
              "total_pymnt_inv                  0.005475\n",
              "initial_list_status              0.005475\n",
              "out_prncp_inv                    0.005475\n",
              "out_prncp                        0.005475\n",
              "installment                      0.005475\n",
              "grade                            0.005475\n",
              "home_ownership                   0.005475\n",
              "annual_inc                       0.005475\n",
              "verification_status              0.005475\n",
              "pymnt_plan                       0.005475\n",
              "purpose                          0.005475\n",
              "title                            0.005475\n",
              "addr_state                       0.005475\n",
              "dti                              0.005475\n",
              "delinq_2yrs                      0.005475\n",
              "inq_last_6mths                   0.005475\n",
              "open_acc                         0.005475\n",
              "pub_rec                          0.005475\n",
              "revol_bal                        0.005475\n",
              "total_acc                        0.005475\n",
              "int_rate                         0.005475\n",
              "mths_last_credit_pull_d          0.005475\n",
              "dtype: float64"
            ]
          },
          "metadata": {},
          "execution_count": 46
        }
      ]
    },
    {
      "cell_type": "code",
      "source": [
        "df.drop(['mths_since_last_record', 'mths_since_last_major_derog'], axis=1, inplace=True)"
      ],
      "metadata": {
        "id": "JTXvy5FeHXXD"
      },
      "execution_count": 47,
      "outputs": []
    },
    {
      "cell_type": "code",
      "source": [
        "df.isnull().sum()"
      ],
      "metadata": {
        "colab": {
          "base_uri": "https://localhost:8080/"
        },
        "id": "ISmwI5GrHdB8",
        "outputId": "08867bdb-5faa-4e3f-dc02-88d6c01e428b"
      },
      "execution_count": 48,
      "outputs": [
        {
          "output_type": "execute_result",
          "data": {
            "text/plain": [
              "loan_amnt                         0\n",
              "funded_amnt                       0\n",
              "funded_amnt_inv                   0\n",
              "term                              1\n",
              "int_rate                          1\n",
              "installment                       1\n",
              "grade                             1\n",
              "emp_title                      1188\n",
              "emp_length                      632\n",
              "home_ownership                    1\n",
              "annual_inc                        1\n",
              "verification_status               1\n",
              "pymnt_plan                        1\n",
              "purpose                           1\n",
              "title                             1\n",
              "addr_state                        1\n",
              "dti                               1\n",
              "delinq_2yrs                       1\n",
              "inq_last_6mths                    1\n",
              "mths_since_last_delinq        12087\n",
              "open_acc                          1\n",
              "pub_rec                           1\n",
              "revol_bal                         1\n",
              "revol_util                       10\n",
              "total_acc                         1\n",
              "initial_list_status               1\n",
              "out_prncp                         1\n",
              "out_prncp_inv                     1\n",
              "total_pymnt                       1\n",
              "total_pymnt_inv                   1\n",
              "total_rec_prncp                   1\n",
              "total_rec_int                     1\n",
              "total_rec_late_fee                1\n",
              "recoveries                        1\n",
              "collection_recovery_fee           1\n",
              "last_pymnt_amnt                   1\n",
              "collections_12_mths_ex_med        1\n",
              "policy_code                       1\n",
              "application_type                  1\n",
              "acc_now_delinq                    1\n",
              "tot_coll_amt                  18264\n",
              "tot_cur_bal                   18264\n",
              "total_rev_hi_lim              18264\n",
              "bad_credit                        0\n",
              "mths_earliest_cr_line             1\n",
              "mths_issue_d                      1\n",
              "mths_last_pymnt_d                36\n",
              "mths_next_pymnt_d             16478\n",
              "mths_last_credit_pull_d           1\n",
              "dtype: int64"
            ]
          },
          "metadata": {},
          "execution_count": 48
        }
      ]
    },
    {
      "cell_type": "markdown",
      "source": [
        "Fill Null-Values 1"
      ],
      "metadata": {
        "id": "r4ehsXZFKDW2"
      }
    },
    {
      "cell_type": "code",
      "source": [
        "df['term'].fillna(df['term'].mean(), inplace=True)\n",
        "df['int_rate'].fillna(df['int_rate'].mean(), inplace=True)\n",
        "df['installment'].fillna(df['installment'].mean(), inplace=True)\n",
        "df['grade'].fillna('B', inplace=True)\n",
        "df['emp_title'].fillna('US Army', inplace=True)\n",
        "df['emp_length'].fillna(df['emp_length'].mean(), inplace=True)\n",
        "df['home_ownership'].fillna('MORTAGE', inplace=True)\n",
        "df['annual_inc'].fillna(df['annual_inc'].mean(), inplace=True)\n",
        "df['verification_status'].fillna('Verified', inplace=True)\n",
        "df['pymnt_plan'].fillna('n', inplace=True)\n",
        "df['purpose'].fillna('debt_consolidation', inplace=True)\n",
        "df['title'].fillna('Debt Consolidation Loan', inplace=True)"
      ],
      "metadata": {
        "id": "IG08638gHmgd"
      },
      "execution_count": 59,
      "outputs": []
    },
    {
      "cell_type": "markdown",
      "source": [
        "Fill Null-Values 2"
      ],
      "metadata": {
        "id": "yuhga96pKH-Z"
      }
    },
    {
      "cell_type": "code",
      "source": [
        "df['addr_state'].fillna('CA', inplace=True)\n",
        "df['dti'].fillna(df['dti'].mean(), inplace=True)\n",
        "df['delinq_2yrs'].fillna(df['delinq_2yrs'].mean(), inplace=True)\n",
        "df['inq_last_6mths'].fillna(df['inq_last_6mths'].mean(), inplace=True)\n",
        "df['mths_since_last_delinq'].fillna(df['mths_since_last_delinq'].mean(), inplace=True)\n",
        "df['open_acc'].fillna(df['open_acc'].mean(), inplace=True)\n",
        "df['pub_rec'].fillna(df['pub_rec'].mean(), inplace=True)\n",
        "df['revol_bal'].fillna(df['revol_bal'].mean(), inplace=True)\n",
        "df['revol_util'].fillna(df['revol_util'].mean(), inplace=True)\n",
        "df['total_acc'].fillna(df['total_acc'].mean(), inplace=True)\n",
        "df['initial_list_status'].fillna('f', inplace=True)\n",
        "df['out_prncp'].fillna(df['out_prncp'].mean(), inplace=True)"
      ],
      "metadata": {
        "id": "qwvbmoMGKBjN"
      },
      "execution_count": 71,
      "outputs": []
    },
    {
      "cell_type": "markdown",
      "source": [
        "Fill Null-Values 3"
      ],
      "metadata": {
        "id": "2ymayRlhLxBW"
      }
    },
    {
      "cell_type": "code",
      "source": [
        "df['out_prncp_inv'].fillna(df['out_prncp_inv'].mean(), inplace=True)\n",
        "df['total_pymnt'].fillna(df['total_pymnt'].mean(), inplace=True)\n",
        "df['total_pymnt_inv'].fillna(df['total_pymnt_inv'].mean(), inplace=True)\n",
        "df['total_rec_prncp'].fillna(df['total_rec_prncp'].mean(), inplace=True)\n",
        "df['total_rec_int'].fillna(df['total_rec_int'].mean(), inplace=True)\n",
        "df['total_rec_late_fee'].fillna(df['total_rec_late_fee'].mean(), inplace=True)\n",
        "df['recoveries'].fillna(df['recoveries'].mean(), inplace=True)\n",
        "df['collection_recovery_fee'].fillna(df['collection_recovery_fee'].mean(), inplace=True)\n",
        "df['last_pymnt_amnt'].fillna(df['last_pymnt_amnt'].mean(), inplace=True)\n",
        "df['collections_12_mths_ex_med'].fillna(df['collections_12_mths_ex_med'].mean(), inplace=True)\n",
        "df['policy_code'].fillna(df['policy_code'].mean(), inplace=True)\n",
        "df['application_type'].fillna('INDIVIDUAL', inplace=True)"
      ],
      "metadata": {
        "id": "3KX3ivmOLzO6"
      },
      "execution_count": 78,
      "outputs": []
    },
    {
      "cell_type": "markdown",
      "source": [
        "Fill Null-Values 4"
      ],
      "metadata": {
        "id": "YXEZ0kOaM00h"
      }
    },
    {
      "cell_type": "code",
      "source": [
        "df['acc_now_delinq'].fillna(df['acc_now_delinq'].mean(), inplace=True)\n",
        "df['tot_coll_amt'].fillna(df['tot_coll_amt'].mean(), inplace=True)\n",
        "df['tot_cur_bal'].fillna(df['tot_cur_bal'].mean(), inplace=True)\n",
        "df['bad_credit'].fillna(df['bad_credit'].mean(), inplace=True)\n",
        "df['total_rev_hi_lim'].fillna(df['total_rev_hi_lim'].mean(), inplace=True)\n",
        "df['mths_earliest_cr_line'].fillna(df['mths_earliest_cr_line'].mean(), inplace=True)\n",
        "df['mths_issue_d'].fillna(df['mths_issue_d'].mean(), inplace=True)\n",
        "df['mths_last_pymnt_d'].fillna(df['mths_last_pymnt_d'].mean(), inplace=True)\n",
        "df['mths_next_pymnt_d'].fillna(df['mths_next_pymnt_d'].mean(), inplace=True)\n",
        "df['mths_last_credit_pull_d'].fillna(df['mths_last_credit_pull_d'].mean(), inplace=True)"
      ],
      "metadata": {
        "id": "jxOSs3L5M7gX"
      },
      "execution_count": 84,
      "outputs": []
    },
    {
      "cell_type": "code",
      "source": [
        "df.drop(['tot_coll_amt'], axis=1, inplace=True)\n",
        "df.drop(['tot_cur_bal'], axis=1, inplace=True)\n",
        "df.drop(['total_rev_hi_lim'], axis=1, inplace=True)"
      ],
      "metadata": {
        "id": "DBZFFUh8QHDw"
      },
      "execution_count": 119,
      "outputs": []
    },
    {
      "cell_type": "markdown",
      "source": [
        "# EDA"
      ],
      "metadata": {
        "id": "Kk87AvBnOIn4"
      }
    },
    {
      "cell_type": "markdown",
      "source": [
        "## Correlation"
      ],
      "metadata": {
        "id": "StNvk831OKVw"
      }
    },
    {
      "cell_type": "code",
      "source": [
        "plt.figure(figsize=(20,20))\n",
        "sns.heatmap(df.corr())"
      ],
      "metadata": {
        "colab": {
          "base_uri": "https://localhost:8080/",
          "height": 1000
        },
        "id": "SEgNeO9_IOpg",
        "outputId": "2874665c-796d-4f9c-e867-44943ff16fea"
      },
      "execution_count": 120,
      "outputs": [
        {
          "output_type": "execute_result",
          "data": {
            "text/plain": [
              "<matplotlib.axes._subplots.AxesSubplot at 0x7fc3eccd1a10>"
            ]
          },
          "metadata": {},
          "execution_count": 120
        },
        {
          "output_type": "display_data",
          "data": {
            "text/plain": [
              "<Figure size 1440x1440 with 2 Axes>"
            ],
            "image/png": "[encoded data removed]"
          },
          "metadata": {
            "needs_background": "light"
          }
        }
      ]
    },
    {
      "cell_type": "code",
      "source": [
        "corr_matrix = df.corr().abs()\n",
        "upper = corr_matrix.where(np.triu(np.ones(corr_matrix.shape), k=1).astype(np.bool))\n",
        "to_drop_hicorr = [column for column in upper.columns if any(upper[column] > 0.7)]"
      ],
      "metadata": {
        "id": "Jnt6u0m9OODY"
      },
      "execution_count": 121,
      "outputs": []
    },
    {
      "cell_type": "code",
      "source": [
        "to_drop_hicorr"
      ],
      "metadata": {
        "colab": {
          "base_uri": "https://localhost:8080/"
        },
        "id": "tfPq4LpnOTa2",
        "outputId": "1f0fb618-223e-4cce-9c3c-62a68ea5f12a"
      },
      "execution_count": 122,
      "outputs": [
        {
          "output_type": "execute_result",
          "data": {
            "text/plain": [
              "[]"
            ]
          },
          "metadata": {},
          "execution_count": 122
        }
      ]
    },
    {
      "cell_type": "code",
      "source": [
        "df.drop(to_drop_hicorr, axis=1, inplace=True)"
      ],
      "metadata": {
        "id": "o7nN__U5OVC_"
      },
      "execution_count": 123,
      "outputs": []
    },
    {
      "cell_type": "markdown",
      "source": [
        "## Feature Selection"
      ],
      "metadata": {
        "id": "HPNTvRBbOb50"
      }
    },
    {
      "cell_type": "code",
      "source": [
        "categorical = df.select_dtypes(include='object').nunique()\n",
        "categorical"
      ],
      "metadata": {
        "colab": {
          "base_uri": "https://localhost:8080/"
        },
        "id": "Bs3HYS2TOdib",
        "outputId": "74e200bd-c3c3-410e-8641-6dc3717d5eef"
      },
      "execution_count": 124,
      "outputs": [
        {
          "output_type": "execute_result",
          "data": {
            "text/plain": [
              "grade                   7\n",
              "home_ownership          5\n",
              "verification_status     3\n",
              "purpose                13\n",
              "addr_state             45\n",
              "initial_list_status     1\n",
              "dtype: int64"
            ]
          },
          "metadata": {},
          "execution_count": 124
        }
      ]
    },
    {
      "cell_type": "code",
      "source": [
        "numerical = df.select_dtypes(exclude='object').nunique()\n",
        "numerical"
      ],
      "metadata": {
        "colab": {
          "base_uri": "https://localhost:8080/"
        },
        "id": "7dfj254rOmHG",
        "outputId": "1e02109f-add0-48f4-dd01-119c3019114b"
      },
      "execution_count": 127,
      "outputs": [
        {
          "output_type": "execute_result",
          "data": {
            "text/plain": [
              "loan_amnt                       801\n",
              "term                              3\n",
              "int_rate                        129\n",
              "emp_length                       12\n",
              "annual_inc                     2772\n",
              "dti                            2820\n",
              "delinq_2yrs                      11\n",
              "inq_last_6mths                   10\n",
              "mths_since_last_delinq           89\n",
              "open_acc                         36\n",
              "pub_rec                           5\n",
              "revol_bal                     13218\n",
              "revol_util                     1052\n",
              "total_acc                        69\n",
              "out_prncp                      1784\n",
              "total_rec_late_fee              660\n",
              "recoveries                     2109\n",
              "last_pymnt_amnt               16461\n",
              "collections_12_mths_ex_med        1\n",
              "acc_now_delinq                    1\n",
              "bad_credit                        2\n",
              "mths_earliest_cr_line           465\n",
              "mths_issue_d                     11\n",
              "mths_last_pymnt_d                59\n",
              "mths_next_pymnt_d                 3\n",
              "mths_last_credit_pull_d          59\n",
              "dtype: int64"
            ]
          },
          "metadata": {},
          "execution_count": 127
        }
      ]
    },
    {
      "cell_type": "code",
      "source": [
        "for col in df.select_dtypes(include='object').columns.tolist():\n",
        "    print(df[col].value_counts(normalize=True)*100)\n",
        "    print('\\n')"
      ],
      "metadata": {
        "colab": {
          "base_uri": "https://localhost:8080/"
        },
        "id": "lNla4mb3Op1O",
        "outputId": "8fbc02e3-a8e4-417f-d755-ac6e4582e569"
      },
      "execution_count": 129,
      "outputs": [
        {
          "output_type": "stream",
          "name": "stdout",
          "text": [
            "B    30.546430\n",
            "A    26.264783\n",
            "C    18.451599\n",
            "D    12.992773\n",
            "E     7.807709\n",
            "F     3.109943\n",
            "G     0.826763\n",
            "Name: grade, dtype: float64\n",
            "\n",
            "\n",
            "MORTGAGE    47.043364\n",
            "RENT        45.417214\n",
            "OWN          7.528471\n",
            "OTHER        0.005475\n",
            "MORTAGE      0.005475\n",
            "Name: home_ownership, dtype: float64\n",
            "\n",
            "\n",
            "Verified           36.081910\n",
            "Not Verified       32.364214\n",
            "Source Verified    31.553876\n",
            "Name: verification_status, dtype: float64\n",
            "\n",
            "\n",
            "debt_consolidation    49.003504\n",
            "credit_card           12.866842\n",
            "other                  9.072492\n",
            "home_improvement       8.075996\n",
            "major_purchase         4.790845\n",
            "small_business         4.413053\n",
            "car                    4.024310\n",
            "wedding                2.266754\n",
            "medical                1.735655\n",
            "moving                 1.472843\n",
            "vacation               1.051248\n",
            "house                  0.952694\n",
            "renewable_energy       0.273763\n",
            "Name: purpose, dtype: float64\n",
            "\n",
            "\n",
            "CA    17.663163\n",
            "NY     9.132720\n",
            "FL     7.490145\n",
            "TX     6.860491\n",
            "NJ     4.528033\n",
            "IL     3.964082\n",
            "PA     3.591765\n",
            "VA     3.361805\n",
            "GA     3.339904\n",
            "OH     3.175646\n",
            "NC     2.973062\n",
            "MA     2.923784\n",
            "MD     2.567893\n",
            "AZ     2.212002\n",
            "WA     2.157249\n",
            "CT     1.888962\n",
            "MO     1.850635\n",
            "CO     1.763031\n",
            "MI     1.620675\n",
            "MN     1.533071\n",
            "NV     1.346912\n",
            "SC     1.248357\n",
            "LA     1.210031\n",
            "WI     1.199080\n",
            "AL     1.111476\n",
            "OR     1.111476\n",
            "KY     0.974595\n",
            "KS     0.876040\n",
            "OK     0.870565\n",
            "AR     0.717258\n",
            "UT     0.624179\n",
            "DC     0.525624\n",
            "HI     0.514674\n",
            "RI     0.503723\n",
            "NM     0.454446\n",
            "NH     0.421594\n",
            "WV     0.399693\n",
            "DE     0.257337\n",
            "MT     0.240911\n",
            "AK     0.235436\n",
            "WY     0.208060\n",
            "SD     0.191634\n",
            "VT     0.147832\n",
            "MS     0.005475\n",
            "TN     0.005475\n",
            "Name: addr_state, dtype: float64\n",
            "\n",
            "\n",
            "f    100.0\n",
            "Name: initial_list_status, dtype: float64\n",
            "\n",
            "\n"
          ]
        }
      ]
    },
    {
      "cell_type": "markdown",
      "source": [
        "# Scalling and Transformation"
      ],
      "metadata": {
        "id": "ZfQnLv80OyaJ"
      }
    },
    {
      "cell_type": "markdown",
      "source": [
        "## One Hot Encoding"
      ],
      "metadata": {
        "id": "9XibjhoPO3RO"
      }
    },
    {
      "cell_type": "code",
      "source": [
        "categorical = [col for col in df.select_dtypes(include='object').columns.tolist()]"
      ],
      "metadata": {
        "id": "hi4i4XxoOwu0"
      },
      "execution_count": 130,
      "outputs": []
    },
    {
      "cell_type": "code",
      "source": [
        "onehot = pd.get_dummies(df[categorical], drop_first=True)"
      ],
      "metadata": {
        "id": "5T797IYoO8eI"
      },
      "execution_count": 131,
      "outputs": []
    },
    {
      "cell_type": "code",
      "source": [
        "onehot.head()"
      ],
      "metadata": {
        "colab": {
          "base_uri": "https://localhost:8080/",
          "height": 0
        },
        "id": "d6D4iKHlO9tN",
        "outputId": "4539b7bd-7668-4d20-d12f-406042acddbe"
      },
      "execution_count": 132,
      "outputs": [
        {
          "output_type": "execute_result",
          "data": {
            "text/plain": [
              "   grade_B  grade_C  grade_D  grade_E  grade_F  grade_G  \\\n",
              "0        1        0        0        0        0        0   \n",
              "1        0        1        0        0        0        0   \n",
              "2        0        1        0        0        0        0   \n",
              "3        0        1        0        0        0        0   \n",
              "4        1        0        0        0        0        0   \n",
              "\n",
              "   home_ownership_MORTGAGE  home_ownership_OTHER  home_ownership_OWN  \\\n",
              "0                        0                     0                   0   \n",
              "1                        0                     0                   0   \n",
              "2                        0                     0                   0   \n",
              "3                        0                     0                   0   \n",
              "4                        0                     0                   0   \n",
              "\n",
              "   home_ownership_RENT  ...  addr_state_SD  addr_state_TN  addr_state_TX  \\\n",
              "0                    1  ...              0              0              0   \n",
              "1                    1  ...              0              0              0   \n",
              "2                    1  ...              0              0              0   \n",
              "3                    1  ...              0              0              0   \n",
              "4                    1  ...              0              0              0   \n",
              "\n",
              "   addr_state_UT  addr_state_VA  addr_state_VT  addr_state_WA  addr_state_WI  \\\n",
              "0              0              0              0              0              0   \n",
              "1              0              0              0              0              0   \n",
              "2              0              0              0              0              0   \n",
              "3              0              0              0              0              0   \n",
              "4              0              0              0              0              0   \n",
              "\n",
              "   addr_state_WV  addr_state_WY  \n",
              "0              0              0  \n",
              "1              0              0  \n",
              "2              0              0  \n",
              "3              0              0  \n",
              "4              0              0  \n",
              "\n",
              "[5 rows x 68 columns]"
            ],
            "text/html": [
              "\n",
              "  <div id=\"df-720cc7cf-e9d0-49da-9f9b-0056da8cafd3\">\n",
              "    <div class=\"colab-df-container\">\n",
              "      <div>\n",
              "<style scoped>\n",
              "    .dataframe tbody tr th:only-of-type {\n",
              "        vertical-align: middle;\n",
              "    }\n",
              "\n",
              "    .dataframe tbody tr th {\n",
              "        vertical-align: top;\n",
              "    }\n",
              "\n",
              "    .dataframe thead th {\n",
              "        text-align: right;\n",
              "    }\n",
              "</style>\n",
              "<table border=\"1\" class=\"dataframe\">\n",
              "  <thead>\n",
              "    <tr style=\"text-align: right;\">\n",
              "      <th></th>\n",
              "      <th>grade_B</th>\n",
              "      <th>grade_C</th>\n",
              "      <th>grade_D</th>\n",
              "      <th>grade_E</th>\n",
              "      <th>grade_F</th>\n",
              "      <th>grade_G</th>\n",
              "      <th>home_ownership_MORTGAGE</th>\n",
              "      <th>home_ownership_OTHER</th>\n",
              "      <th>home_ownership_OWN</th>\n",
              "      <th>home_ownership_RENT</th>\n",
              "      <th>...</th>\n",
              "      <th>addr_state_SD</th>\n",
              "      <th>addr_state_TN</th>\n",
              "      <th>addr_state_TX</th>\n",
              "      <th>addr_state_UT</th>\n",
              "      <th>addr_state_VA</th>\n",
              "      <th>addr_state_VT</th>\n",
              "      <th>addr_state_WA</th>\n",
              "      <th>addr_state_WI</th>\n",
              "      <th>addr_state_WV</th>\n",
              "      <th>addr_state_WY</th>\n",
              "    </tr>\n",
              "  </thead>\n",
              "  <tbody>\n",
              "    <tr>\n",
              "      <th>0</th>\n",
              "      <td>1</td>\n",
              "      <td>0</td>\n",
              "      <td>0</td>\n",
              "      <td>0</td>\n",
              "      <td>0</td>\n",
              "      <td>0</td>\n",
              "      <td>0</td>\n",
              "      <td>0</td>\n",
              "      <td>0</td>\n",
              "      <td>1</td>\n",
              "      <td>...</td>\n",
              "      <td>0</td>\n",
              "      <td>0</td>\n",
              "      <td>0</td>\n",
              "      <td>0</td>\n",
              "      <td>0</td>\n",
              "      <td>0</td>\n",
              "      <td>0</td>\n",
              "      <td>0</td>\n",
              "      <td>0</td>\n",
              "      <td>0</td>\n",
              "    </tr>\n",
              "    <tr>\n",
              "      <th>1</th>\n",
              "      <td>0</td>\n",
              "      <td>1</td>\n",
              "      <td>0</td>\n",
              "      <td>0</td>\n",
              "      <td>0</td>\n",
              "      <td>0</td>\n",
              "      <td>0</td>\n",
              "      <td>0</td>\n",
              "      <td>0</td>\n",
              "      <td>1</td>\n",
              "      <td>...</td>\n",
              "      <td>0</td>\n",
              "      <td>0</td>\n",
              "      <td>0</td>\n",
              "      <td>0</td>\n",
              "      <td>0</td>\n",
              "      <td>0</td>\n",
              "      <td>0</td>\n",
              "      <td>0</td>\n",
              "      <td>0</td>\n",
              "      <td>0</td>\n",
              "    </tr>\n",
              "    <tr>\n",
              "      <th>2</th>\n",
              "      <td>0</td>\n",
              "      <td>1</td>\n",
              "      <td>0</td>\n",
              "      <td>0</td>\n",
              "      <td>0</td>\n",
              "      <td>0</td>\n",
              "      <td>0</td>\n",
              "      <td>0</td>\n",
              "      <td>0</td>\n",
              "      <td>1</td>\n",
              "      <td>...</td>\n",
              "      <td>0</td>\n",
              "      <td>0</td>\n",
              "      <td>0</td>\n",
              "      <td>0</td>\n",
              "      <td>0</td>\n",
              "      <td>0</td>\n",
              "      <td>0</td>\n",
              "      <td>0</td>\n",
              "      <td>0</td>\n",
              "      <td>0</td>\n",
              "    </tr>\n",
              "    <tr>\n",
              "      <th>3</th>\n",
              "      <td>0</td>\n",
              "      <td>1</td>\n",
              "      <td>0</td>\n",
              "      <td>0</td>\n",
              "      <td>0</td>\n",
              "      <td>0</td>\n",
              "      <td>0</td>\n",
              "      <td>0</td>\n",
              "      <td>0</td>\n",
              "      <td>1</td>\n",
              "      <td>...</td>\n",
              "      <td>0</td>\n",
              "      <td>0</td>\n",
              "      <td>0</td>\n",
              "      <td>0</td>\n",
              "      <td>0</td>\n",
              "      <td>0</td>\n",
              "      <td>0</td>\n",
              "      <td>0</td>\n",
              "      <td>0</td>\n",
              "      <td>0</td>\n",
              "    </tr>\n",
              "    <tr>\n",
              "      <th>4</th>\n",
              "      <td>1</td>\n",
              "      <td>0</td>\n",
              "      <td>0</td>\n",
              "      <td>0</td>\n",
              "      <td>0</td>\n",
              "      <td>0</td>\n",
              "      <td>0</td>\n",
              "      <td>0</td>\n",
              "      <td>0</td>\n",
              "      <td>1</td>\n",
              "      <td>...</td>\n",
              "      <td>0</td>\n",
              "      <td>0</td>\n",
              "      <td>0</td>\n",
              "      <td>0</td>\n",
              "      <td>0</td>\n",
              "      <td>0</td>\n",
              "      <td>0</td>\n",
              "      <td>0</td>\n",
              "      <td>0</td>\n",
              "      <td>0</td>\n",
              "    </tr>\n",
              "  </tbody>\n",
              "</table>\n",
              "<p>5 rows × 68 columns</p>\n",
              "</div>\n",
              "      <button class=\"colab-df-convert\" onclick=\"convertToInteractive('df-720cc7cf-e9d0-49da-9f9b-0056da8cafd3')\"\n",
              "              title=\"Convert this dataframe to an interactive table.\"\n",
              "              style=\"display:none;\">\n",
              "        \n",
              "  <svg xmlns=\"http://www.w3.org/2000/svg\" height=\"24px\"viewBox=\"0 0 24 24\"\n",
              "       width=\"24px\">\n",
              "    <path d=\"M0 0h24v24H0V0z\" fill=\"none\"/>\n",
              "    <path d=\"M18.56 5.44l.94 2.06.94-2.06 2.06-.94-2.06-.94-.94-2.06-.94 2.06-2.06.94zm-11 1L8.5 8.5l.94-2.06 2.06-.94-2.06-.94L8.5 2.5l-.94 2.06-2.06.94zm10 10l.94 2.06.94-2.06 2.06-.94-2.06-.94-.94-2.06-.94 2.06-2.06.94z\"/><path d=\"M17.41 7.96l-1.37-1.37c-.4-.4-.92-.59-1.43-.59-.52 0-1.04.2-1.43.59L10.3 9.45l-7.72 7.72c-.78.78-.78 2.05 0 2.83L4 21.41c.39.39.9.59 1.41.59.51 0 1.02-.2 1.41-.59l7.78-7.78 2.81-2.81c.8-.78.8-2.07 0-2.86zM5.41 20L4 18.59l7.72-7.72 1.47 1.35L5.41 20z\"/>\n",
              "  </svg>\n",
              "      </button>\n",
              "      \n",
              "  <style>\n",
              "    .colab-df-container {\n",
              "      display:flex;\n",
              "      flex-wrap:wrap;\n",
              "      gap: 12px;\n",
              "    }\n",
              "\n",
              "    .colab-df-convert {\n",
              "      background-color: #E8F0FE;\n",
              "      border: none;\n",
              "      border-radius: 50%;\n",
              "      cursor: pointer;\n",
              "      display: none;\n",
              "      fill: #1967D2;\n",
              "      height: 32px;\n",
              "      padding: 0 0 0 0;\n",
              "      width: 32px;\n",
              "    }\n",
              "\n",
              "    .colab-df-convert:hover {\n",
              "      background-color: #E2EBFA;\n",
              "      box-shadow: 0px 1px 2px rgba(60, 64, 67, 0.3), 0px 1px 3px 1px rgba(60, 64, 67, 0.15);\n",
              "      fill: #174EA6;\n",
              "    }\n",
              "\n",
              "    [theme=dark] .colab-df-convert {\n",
              "      background-color: #3B4455;\n",
              "      fill: #D2E3FC;\n",
              "    }\n",
              "\n",
              "    [theme=dark] .colab-df-convert:hover {\n",
              "      background-color: #434B5C;\n",
              "      box-shadow: 0px 1px 3px 1px rgba(0, 0, 0, 0.15);\n",
              "      filter: drop-shadow(0px 1px 2px rgba(0, 0, 0, 0.3));\n",
              "      fill: #FFFFFF;\n",
              "    }\n",
              "  </style>\n",
              "\n",
              "      <script>\n",
              "        const buttonEl =\n",
              "          document.querySelector('#df-720cc7cf-e9d0-49da-9f9b-0056da8cafd3 button.colab-df-convert');\n",
              "        buttonEl.style.display =\n",
              "          google.colab.kernel.accessAllowed ? 'block' : 'none';\n",
              "\n",
              "        async function convertToInteractive(key) {\n",
              "          const element = document.querySelector('#df-720cc7cf-e9d0-49da-9f9b-0056da8cafd3');\n",
              "          const dataTable =\n",
              "            await google.colab.kernel.invokeFunction('convertToInteractive',\n",
              "                                                     [key], {});\n",
              "          if (!dataTable) return;\n",
              "\n",
              "          const docLinkHtml = 'Like what you see? Visit the ' +\n",
              "            '<a target=\"_blank\" href=https://colab.research.google.com/notebooks/data_table.ipynb>data table notebook</a>'\n",
              "            + ' to learn more about interactive tables.';\n",
              "          element.innerHTML = '';\n",
              "          dataTable['output_type'] = 'display_data';\n",
              "          await google.colab.output.renderOutput(dataTable, element);\n",
              "          const docLink = document.createElement('div');\n",
              "          docLink.innerHTML = docLinkHtml;\n",
              "          element.appendChild(docLink);\n",
              "        }\n",
              "      </script>\n",
              "    </div>\n",
              "  </div>\n",
              "  "
            ]
          },
          "metadata": {},
          "execution_count": 132
        }
      ]
    },
    {
      "cell_type": "markdown",
      "source": [
        "## Standarization"
      ],
      "metadata": {
        "id": "LH9F0-4kPDkL"
      }
    },
    {
      "cell_type": "code",
      "source": [
        "numerical = [col for col in df.columns.tolist() if col not in categorical + ['bad_credit']]"
      ],
      "metadata": {
        "id": "wOCGgosWO_Cd"
      },
      "execution_count": 133,
      "outputs": []
    },
    {
      "cell_type": "code",
      "source": [
        "from sklearn.preprocessing import StandardScaler\n",
        "\n",
        "ss = StandardScaler()\n",
        "std = pd.DataFrame(ss.fit_transform(df[numerical]), columns=numerical)"
      ],
      "metadata": {
        "id": "jZEztj6vPGW8"
      },
      "execution_count": 134,
      "outputs": []
    },
    {
      "cell_type": "code",
      "source": [
        "std.head()"
      ],
      "metadata": {
        "colab": {
          "base_uri": "https://localhost:8080/",
          "height": 0
        },
        "id": "Kih1iV--PHiZ",
        "outputId": "d0e3ba00-8e7f-4e4e-f6fa-cd96be6e39ea"
      },
      "execution_count": 135,
      "outputs": [
        {
          "output_type": "execute_result",
          "data": {
            "text/plain": [
              "   loan_amnt      term  int_rate  emp_length  annual_inc       dti  \\\n",
              "0  -0.862888 -0.732491 -0.408307    1.336839   -0.966125  2.048300   \n",
              "1  -1.161676  1.365279  0.699008   -1.539972   -0.839133 -1.919689   \n",
              "2  -1.173627 -0.732491  0.864386    1.336839   -1.214776 -0.770238   \n",
              "3  -0.265312 -0.732491  0.272380    1.336839   -0.432757  0.909271   \n",
              "4  -1.101918  1.365279  0.080637   -1.252290    0.219138  0.602552   \n",
              "\n",
              "   delinq_2yrs  inq_last_6mths  mths_since_last_delinq  open_acc  ...  \\\n",
              "0    -0.294347        0.172046            5.660456e-16 -1.471332  ...   \n",
              "1    -0.294347        4.070399            5.660456e-16 -1.471332  ...   \n",
              "2    -0.294347        1.146634            5.660456e-16 -1.700881  ...   \n",
              "3    -0.294347        0.172046           -1.589537e-01  0.135507  ...   \n",
              "4    -0.294347       -0.802542            8.003785e-02  1.283249  ...   \n",
              "\n",
              "   total_rec_late_fee  recoveries  last_pymnt_amnt  \\\n",
              "0           -0.173872   -0.155286        -0.585188   \n",
              "1           -0.173872    0.003407        -0.595337   \n",
              "2           -0.173872   -0.155286        -0.491771   \n",
              "3            2.734604   -0.155286        -0.548887   \n",
              "4           -0.173872   -0.155286        -0.605468   \n",
              "\n",
              "   collections_12_mths_ex_med  acc_now_delinq  mths_earliest_cr_line  \\\n",
              "0                         0.0             0.0               1.778091   \n",
              "1                         0.0             0.0              -0.279729   \n",
              "2                         0.0             0.0              -0.652784   \n",
              "3                         0.0             0.0               0.177564   \n",
              "4                         0.0             0.0               0.189599   \n",
              "\n",
              "   mths_issue_d  mths_last_pymnt_d  mths_next_pymnt_d  mths_last_credit_pull_d  \n",
              "0     -1.445493          -0.844076       5.861397e-14                -0.880108  \n",
              "1     -1.445493           0.650128       5.861397e-14                 1.083819  \n",
              "2     -1.445493          -0.346008       5.861397e-14                -0.880108  \n",
              "3     -1.445493          -0.844076       5.861397e-14                -0.038425  \n",
              "4     -1.445493          -1.697907      -1.519586e+00                -0.880108  \n",
              "\n",
              "[5 rows x 25 columns]"
            ],
            "text/html": [
              "\n",
              "  <div id=\"df-9d427273-4720-44fe-bb85-e1edd8e78200\">\n",
              "    <div class=\"colab-df-container\">\n",
              "      <div>\n",
              "<style scoped>\n",
              "    .dataframe tbody tr th:only-of-type {\n",
              "        vertical-align: middle;\n",
              "    }\n",
              "\n",
              "    .dataframe tbody tr th {\n",
              "        vertical-align: top;\n",
              "    }\n",
              "\n",
              "    .dataframe thead th {\n",
              "        text-align: right;\n",
              "    }\n",
              "</style>\n",
              "<table border=\"1\" class=\"dataframe\">\n",
              "  <thead>\n",
              "    <tr style=\"text-align: right;\">\n",
              "      <th></th>\n",
              "      <th>loan_amnt</th>\n",
              "      <th>term</th>\n",
              "      <th>int_rate</th>\n",
              "      <th>emp_length</th>\n",
              "      <th>annual_inc</th>\n",
              "      <th>dti</th>\n",
              "      <th>delinq_2yrs</th>\n",
              "      <th>inq_last_6mths</th>\n",
              "      <th>mths_since_last_delinq</th>\n",
              "      <th>open_acc</th>\n",
              "      <th>...</th>\n",
              "      <th>total_rec_late_fee</th>\n",
              "      <th>recoveries</th>\n",
              "      <th>last_pymnt_amnt</th>\n",
              "      <th>collections_12_mths_ex_med</th>\n",
              "      <th>acc_now_delinq</th>\n",
              "      <th>mths_earliest_cr_line</th>\n",
              "      <th>mths_issue_d</th>\n",
              "      <th>mths_last_pymnt_d</th>\n",
              "      <th>mths_next_pymnt_d</th>\n",
              "      <th>mths_last_credit_pull_d</th>\n",
              "    </tr>\n",
              "  </thead>\n",
              "  <tbody>\n",
              "    <tr>\n",
              "      <th>0</th>\n",
              "      <td>-0.862888</td>\n",
              "      <td>-0.732491</td>\n",
              "      <td>-0.408307</td>\n",
              "      <td>1.336839</td>\n",
              "      <td>-0.966125</td>\n",
              "      <td>2.048300</td>\n",
              "      <td>-0.294347</td>\n",
              "      <td>0.172046</td>\n",
              "      <td>5.660456e-16</td>\n",
              "      <td>-1.471332</td>\n",
              "      <td>...</td>\n",
              "      <td>-0.173872</td>\n",
              "      <td>-0.155286</td>\n",
              "      <td>-0.585188</td>\n",
              "      <td>0.0</td>\n",
              "      <td>0.0</td>\n",
              "      <td>1.778091</td>\n",
              "      <td>-1.445493</td>\n",
              "      <td>-0.844076</td>\n",
              "      <td>5.861397e-14</td>\n",
              "      <td>-0.880108</td>\n",
              "    </tr>\n",
              "    <tr>\n",
              "      <th>1</th>\n",
              "      <td>-1.161676</td>\n",
              "      <td>1.365279</td>\n",
              "      <td>0.699008</td>\n",
              "      <td>-1.539972</td>\n",
              "      <td>-0.839133</td>\n",
              "      <td>-1.919689</td>\n",
              "      <td>-0.294347</td>\n",
              "      <td>4.070399</td>\n",
              "      <td>5.660456e-16</td>\n",
              "      <td>-1.471332</td>\n",
              "      <td>...</td>\n",
              "      <td>-0.173872</td>\n",
              "      <td>0.003407</td>\n",
              "      <td>-0.595337</td>\n",
              "      <td>0.0</td>\n",
              "      <td>0.0</td>\n",
              "      <td>-0.279729</td>\n",
              "      <td>-1.445493</td>\n",
              "      <td>0.650128</td>\n",
              "      <td>5.861397e-14</td>\n",
              "      <td>1.083819</td>\n",
              "    </tr>\n",
              "    <tr>\n",
              "      <th>2</th>\n",
              "      <td>-1.173627</td>\n",
              "      <td>-0.732491</td>\n",
              "      <td>0.864386</td>\n",
              "      <td>1.336839</td>\n",
              "      <td>-1.214776</td>\n",
              "      <td>-0.770238</td>\n",
              "      <td>-0.294347</td>\n",
              "      <td>1.146634</td>\n",
              "      <td>5.660456e-16</td>\n",
              "      <td>-1.700881</td>\n",
              "      <td>...</td>\n",
              "      <td>-0.173872</td>\n",
              "      <td>-0.155286</td>\n",
              "      <td>-0.491771</td>\n",
              "      <td>0.0</td>\n",
              "      <td>0.0</td>\n",
              "      <td>-0.652784</td>\n",
              "      <td>-1.445493</td>\n",
              "      <td>-0.346008</td>\n",
              "      <td>5.861397e-14</td>\n",
              "      <td>-0.880108</td>\n",
              "    </tr>\n",
              "    <tr>\n",
              "      <th>3</th>\n",
              "      <td>-0.265312</td>\n",
              "      <td>-0.732491</td>\n",
              "      <td>0.272380</td>\n",
              "      <td>1.336839</td>\n",
              "      <td>-0.432757</td>\n",
              "      <td>0.909271</td>\n",
              "      <td>-0.294347</td>\n",
              "      <td>0.172046</td>\n",
              "      <td>-1.589537e-01</td>\n",
              "      <td>0.135507</td>\n",
              "      <td>...</td>\n",
              "      <td>2.734604</td>\n",
              "      <td>-0.155286</td>\n",
              "      <td>-0.548887</td>\n",
              "      <td>0.0</td>\n",
              "      <td>0.0</td>\n",
              "      <td>0.177564</td>\n",
              "      <td>-1.445493</td>\n",
              "      <td>-0.844076</td>\n",
              "      <td>5.861397e-14</td>\n",
              "      <td>-0.038425</td>\n",
              "    </tr>\n",
              "    <tr>\n",
              "      <th>4</th>\n",
              "      <td>-1.101918</td>\n",
              "      <td>1.365279</td>\n",
              "      <td>0.080637</td>\n",
              "      <td>-1.252290</td>\n",
              "      <td>0.219138</td>\n",
              "      <td>0.602552</td>\n",
              "      <td>-0.294347</td>\n",
              "      <td>-0.802542</td>\n",
              "      <td>8.003785e-02</td>\n",
              "      <td>1.283249</td>\n",
              "      <td>...</td>\n",
              "      <td>-0.173872</td>\n",
              "      <td>-0.155286</td>\n",
              "      <td>-0.605468</td>\n",
              "      <td>0.0</td>\n",
              "      <td>0.0</td>\n",
              "      <td>0.189599</td>\n",
              "      <td>-1.445493</td>\n",
              "      <td>-1.697907</td>\n",
              "      <td>-1.519586e+00</td>\n",
              "      <td>-0.880108</td>\n",
              "    </tr>\n",
              "  </tbody>\n",
              "</table>\n",
              "<p>5 rows × 25 columns</p>\n",
              "</div>\n",
              "      <button class=\"colab-df-convert\" onclick=\"convertToInteractive('df-9d427273-4720-44fe-bb85-e1edd8e78200')\"\n",
              "              title=\"Convert this dataframe to an interactive table.\"\n",
              "              style=\"display:none;\">\n",
              "        \n",
              "  <svg xmlns=\"http://www.w3.org/2000/svg\" height=\"24px\"viewBox=\"0 0 24 24\"\n",
              "       width=\"24px\">\n",
              "    <path d=\"M0 0h24v24H0V0z\" fill=\"none\"/>\n",
              "    <path d=\"M18.56 5.44l.94 2.06.94-2.06 2.06-.94-2.06-.94-.94-2.06-.94 2.06-2.06.94zm-11 1L8.5 8.5l.94-2.06 2.06-.94-2.06-.94L8.5 2.5l-.94 2.06-2.06.94zm10 10l.94 2.06.94-2.06 2.06-.94-2.06-.94-.94-2.06-.94 2.06-2.06.94z\"/><path d=\"M17.41 7.96l-1.37-1.37c-.4-.4-.92-.59-1.43-.59-.52 0-1.04.2-1.43.59L10.3 9.45l-7.72 7.72c-.78.78-.78 2.05 0 2.83L4 21.41c.39.39.9.59 1.41.59.51 0 1.02-.2 1.41-.59l7.78-7.78 2.81-2.81c.8-.78.8-2.07 0-2.86zM5.41 20L4 18.59l7.72-7.72 1.47 1.35L5.41 20z\"/>\n",
              "  </svg>\n",
              "      </button>\n",
              "      \n",
              "  <style>\n",
              "    .colab-df-container {\n",
              "      display:flex;\n",
              "      flex-wrap:wrap;\n",
              "      gap: 12px;\n",
              "    }\n",
              "\n",
              "    .colab-df-convert {\n",
              "      background-color: #E8F0FE;\n",
              "      border: none;\n",
              "      border-radius: 50%;\n",
              "      cursor: pointer;\n",
              "      display: none;\n",
              "      fill: #1967D2;\n",
              "      height: 32px;\n",
              "      padding: 0 0 0 0;\n",
              "      width: 32px;\n",
              "    }\n",
              "\n",
              "    .colab-df-convert:hover {\n",
              "      background-color: #E2EBFA;\n",
              "      box-shadow: 0px 1px 2px rgba(60, 64, 67, 0.3), 0px 1px 3px 1px rgba(60, 64, 67, 0.15);\n",
              "      fill: #174EA6;\n",
              "    }\n",
              "\n",
              "    [theme=dark] .colab-df-convert {\n",
              "      background-color: #3B4455;\n",
              "      fill: #D2E3FC;\n",
              "    }\n",
              "\n",
              "    [theme=dark] .colab-df-convert:hover {\n",
              "      background-color: #434B5C;\n",
              "      box-shadow: 0px 1px 3px 1px rgba(0, 0, 0, 0.15);\n",
              "      filter: drop-shadow(0px 1px 2px rgba(0, 0, 0, 0.3));\n",
              "      fill: #FFFFFF;\n",
              "    }\n",
              "  </style>\n",
              "\n",
              "      <script>\n",
              "        const buttonEl =\n",
              "          document.querySelector('#df-9d427273-4720-44fe-bb85-e1edd8e78200 button.colab-df-convert');\n",
              "        buttonEl.style.display =\n",
              "          google.colab.kernel.accessAllowed ? 'block' : 'none';\n",
              "\n",
              "        async function convertToInteractive(key) {\n",
              "          const element = document.querySelector('#df-9d427273-4720-44fe-bb85-e1edd8e78200');\n",
              "          const dataTable =\n",
              "            await google.colab.kernel.invokeFunction('convertToInteractive',\n",
              "                                                     [key], {});\n",
              "          if (!dataTable) return;\n",
              "\n",
              "          const docLinkHtml = 'Like what you see? Visit the ' +\n",
              "            '<a target=\"_blank\" href=https://colab.research.google.com/notebooks/data_table.ipynb>data table notebook</a>'\n",
              "            + ' to learn more about interactive tables.';\n",
              "          element.innerHTML = '';\n",
              "          dataTable['output_type'] = 'display_data';\n",
              "          await google.colab.output.renderOutput(dataTable, element);\n",
              "          const docLink = document.createElement('div');\n",
              "          docLink.innerHTML = docLinkHtml;\n",
              "          element.appendChild(docLink);\n",
              "        }\n",
              "      </script>\n",
              "    </div>\n",
              "  </div>\n",
              "  "
            ]
          },
          "metadata": {},
          "execution_count": 135
        }
      ]
    },
    {
      "cell_type": "markdown",
      "source": [
        "##Data Transformation"
      ],
      "metadata": {
        "id": "LZcjvbW5PL4G"
      }
    },
    {
      "cell_type": "code",
      "source": [
        "df_model = pd.concat([onehot, std, df[['bad_credit']]], axis=1)"
      ],
      "metadata": {
        "id": "PWOhzqitPKBM"
      },
      "execution_count": 136,
      "outputs": []
    },
    {
      "cell_type": "markdown",
      "source": [
        "#Train Test Split"
      ],
      "metadata": {
        "id": "vUq1T1NMPRAo"
      }
    },
    {
      "cell_type": "code",
      "source": [
        "from sklearn.model_selection import train_test_split"
      ],
      "metadata": {
        "id": "o5nWRF7YPOSe"
      },
      "execution_count": 137,
      "outputs": []
    },
    {
      "cell_type": "code",
      "source": [
        "X = df_model.drop('bad_credit', axis=1)\n",
        "y = df_model['bad_credit']\n",
        "\n",
        "X_train, X_test, y_train, y_test = train_test_split(X, y, test_size=0.2, random_state=42)"
      ],
      "metadata": {
        "id": "AWGqCJPvPWUU"
      },
      "execution_count": 138,
      "outputs": []
    },
    {
      "cell_type": "code",
      "source": [
        "X_train.shape, X_test.shape"
      ],
      "metadata": {
        "colab": {
          "base_uri": "https://localhost:8080/"
        },
        "id": "htV57hBmPYCZ",
        "outputId": "3665b076-2ad1-44e3-eb8e-b565055831d0"
      },
      "execution_count": 139,
      "outputs": [
        {
          "output_type": "execute_result",
          "data": {
            "text/plain": [
              "((14611, 93), (3653, 93))"
            ]
          },
          "metadata": {},
          "execution_count": 139
        }
      ]
    },
    {
      "cell_type": "markdown",
      "source": [
        "# Modeling"
      ],
      "metadata": {
        "id": "sMPH4_nvPd7r"
      }
    },
    {
      "cell_type": "code",
      "source": [
        "from sklearn.tree import DecisionTreeClassifier\n",
        "from sklearn.ensemble import RandomForestClassifier\n",
        "from sklearn.linear_model import LogisticRegression\n",
        "\n",
        "from sklearn.metrics import accuracy_score, recall_score, precision_score, f1_score, roc_auc_score\n",
        "from sklearn.metrics import roc_curve, auc\n",
        "from scipy.stats import kstest\n",
        "from sklearn.metrics import confusion_matrix,ConfusionMatrixDisplay"
      ],
      "metadata": {
        "id": "sOXovqczPdiu"
      },
      "execution_count": 140,
      "outputs": []
    },
    {
      "cell_type": "markdown",
      "source": [
        "## Evaluation"
      ],
      "metadata": {
        "id": "kW4EEXwiPip8"
      }
    },
    {
      "cell_type": "code",
      "source": [
        "def evaluation(X_train,X_test,y_train,y_test):\n",
        "    \"\"\"\n",
        "    This function want to do an experiment for several models.\n",
        "    We just need data input\n",
        "\n",
        "    Parameter\n",
        "    ---------\n",
        "    X_train = training data contains several features\n",
        "    X_test = testing data contains several features\n",
        "    y_train = train target\n",
        "    y_test = test target\n",
        "    \"\"\"\n",
        "    result = defaultdict(list)\n",
        "    \n",
        "    logreg = LogisticRegression()\n",
        "    dtc = DecisionTreeClassifier()\n",
        "    rf = RandomForestClassifier()\n",
        "  \n",
        "\n",
        "    list_model = [('Logistic Regression',logreg),\n",
        "                  ('Decision Tree',dtc),\n",
        "                  ('Random Forest',rf),\n",
        "                 ]\n",
        "    \n",
        "    for model_name,model in list_model:\n",
        "        start = dt.now()\n",
        "        model.fit(X_train,y_train)\n",
        "        duration = (dt.now()-start).total_seconds()\n",
        "        \n",
        "        y_pred = model.predict(X_test)\n",
        "        y_pred_proba = model.predict_proba(X_test)[:][:,1]\n",
        "        \n",
        "        df_actual_predicted = pd.concat([pd.DataFrame(np.array(y_test), columns=['y_actual']), pd.DataFrame(y_pred_proba, columns=['y_pred_proba'])], axis=1)\n",
        "        df_actual_predicted.index = y_test.index\n",
        "        \n",
        "        df_actual_predicted['Cumulative N Population'] = df_actual_predicted.index + 1\n",
        "        df_actual_predicted['Cumulative N Bad'] = df_actual_predicted['y_actual'].cumsum()\n",
        "        df_actual_predicted['Cumulative N Good'] = df_actual_predicted['Cumulative N Population'] - df_actual_predicted['Cumulative N Bad']\n",
        "        df_actual_predicted['Cumulative Perc Population'] = df_actual_predicted['Cumulative N Population'] / df_actual_predicted.shape[0]\n",
        "        df_actual_predicted['Cumulative Perc Bad'] = df_actual_predicted['Cumulative N Bad'] / df_actual_predicted['y_actual'].sum()\n",
        "        df_actual_predicted['Cumulative Perc Good'] = df_actual_predicted['Cumulative N Good'] / (df_actual_predicted.shape[0] - df_actual_predicted['y_actual'].sum())\n",
        "        \n",
        "        accuracy = accuracy_score(y_test,y_pred)\n",
        "        recall = recall_score(y_test,y_pred)\n",
        "        precision = precision_score(y_test,y_pred)\n",
        "        f_score = f1_score(y_test, y_pred)\n",
        "        fpr, tpr, tr = roc_curve(df_actual_predicted['y_actual'], df_actual_predicted['y_pred_proba'])\n",
        "        auc = roc_auc_score(df_actual_predicted['y_actual'], df_actual_predicted['y_pred_proba'])\n",
        "        kolsmir = max(df_actual_predicted['Cumulative Perc Good'] - df_actual_predicted['Cumulative Perc Bad'])/10\n",
        "        \n",
        "        \n",
        "        result['model_name'].append(model_name)\n",
        "        result['model'].append(model)\n",
        "        result['accuracy'].append(accuracy)\n",
        "        result['recall'].append(recall)\n",
        "        result['precision'].append(precision)\n",
        "        result['f1_score'].append(f_score)\n",
        "        result['AUC'].append(auc)\n",
        "        result['KS'].append(kolsmir)\n",
        "        result['duration'].append(duration)\n",
        "        \n",
        "    return result"
      ],
      "metadata": {
        "id": "H3AtyBaVPZJO"
      },
      "execution_count": 141,
      "outputs": []
    },
    {
      "cell_type": "code",
      "source": [
        "result = evaluation(X_train,X_test,y_train,y_test)\n",
        "result = pd.DataFrame(result)"
      ],
      "metadata": {
        "id": "g3yYehIEPl-_"
      },
      "execution_count": 142,
      "outputs": []
    },
    {
      "cell_type": "code",
      "source": [
        "result"
      ],
      "metadata": {
        "colab": {
          "base_uri": "https://localhost:8080/",
          "height": 144
        },
        "id": "R6CZm2XFPpzJ",
        "outputId": "81c3a484-c81e-4fe5-aa3f-903546d00ddb"
      },
      "execution_count": 144,
      "outputs": [
        {
          "output_type": "execute_result",
          "data": {
            "text/plain": [
              "            model_name                                              model  \\\n",
              "0  Logistic Regression                               LogisticRegression()   \n",
              "1        Decision Tree                           DecisionTreeClassifier()   \n",
              "2        Random Forest  (DecisionTreeClassifier(max_features='auto', r...   \n",
              "\n",
              "   accuracy    recall  precision  f1_score       AUC        KS  duration  \n",
              "0  0.961949  0.821990   0.927165  0.871415  0.986004  0.589801  0.337529  \n",
              "1  0.984944  0.940663   0.962500  0.951456  0.966922  0.589801  0.236987  \n",
              "2  0.979743  0.879581   0.990177  0.931608  0.997085  0.589801  1.956746  "
            ],
            "text/html": [
              "\n",
              "  <div id=\"df-72763627-ef02-4109-8463-2b6660f3c0dd\">\n",
              "    <div class=\"colab-df-container\">\n",
              "      <div>\n",
              "<style scoped>\n",
              "    .dataframe tbody tr th:only-of-type {\n",
              "        vertical-align: middle;\n",
              "    }\n",
              "\n",
              "    .dataframe tbody tr th {\n",
              "        vertical-align: top;\n",
              "    }\n",
              "\n",
              "    .dataframe thead th {\n",
              "        text-align: right;\n",
              "    }\n",
              "</style>\n",
              "<table border=\"1\" class=\"dataframe\">\n",
              "  <thead>\n",
              "    <tr style=\"text-align: right;\">\n",
              "      <th></th>\n",
              "      <th>model_name</th>\n",
              "      <th>model</th>\n",
              "      <th>accuracy</th>\n",
              "      <th>recall</th>\n",
              "      <th>precision</th>\n",
              "      <th>f1_score</th>\n",
              "      <th>AUC</th>\n",
              "      <th>KS</th>\n",
              "      <th>duration</th>\n",
              "    </tr>\n",
              "  </thead>\n",
              "  <tbody>\n",
              "    <tr>\n",
              "      <th>0</th>\n",
              "      <td>Logistic Regression</td>\n",
              "      <td>LogisticRegression()</td>\n",
              "      <td>0.961949</td>\n",
              "      <td>0.821990</td>\n",
              "      <td>0.927165</td>\n",
              "      <td>0.871415</td>\n",
              "      <td>0.986004</td>\n",
              "      <td>0.589801</td>\n",
              "      <td>0.337529</td>\n",
              "    </tr>\n",
              "    <tr>\n",
              "      <th>1</th>\n",
              "      <td>Decision Tree</td>\n",
              "      <td>DecisionTreeClassifier()</td>\n",
              "      <td>0.984944</td>\n",
              "      <td>0.940663</td>\n",
              "      <td>0.962500</td>\n",
              "      <td>0.951456</td>\n",
              "      <td>0.966922</td>\n",
              "      <td>0.589801</td>\n",
              "      <td>0.236987</td>\n",
              "    </tr>\n",
              "    <tr>\n",
              "      <th>2</th>\n",
              "      <td>Random Forest</td>\n",
              "      <td>(DecisionTreeClassifier(max_features='auto', r...</td>\n",
              "      <td>0.979743</td>\n",
              "      <td>0.879581</td>\n",
              "      <td>0.990177</td>\n",
              "      <td>0.931608</td>\n",
              "      <td>0.997085</td>\n",
              "      <td>0.589801</td>\n",
              "      <td>1.956746</td>\n",
              "    </tr>\n",
              "  </tbody>\n",
              "</table>\n",
              "</div>\n",
              "      <button class=\"colab-df-convert\" onclick=\"convertToInteractive('df-72763627-ef02-4109-8463-2b6660f3c0dd')\"\n",
              "              title=\"Convert this dataframe to an interactive table.\"\n",
              "              style=\"display:none;\">\n",
              "        \n",
              "  <svg xmlns=\"http://www.w3.org/2000/svg\" height=\"24px\"viewBox=\"0 0 24 24\"\n",
              "       width=\"24px\">\n",
              "    <path d=\"M0 0h24v24H0V0z\" fill=\"none\"/>\n",
              "    <path d=\"M18.56 5.44l.94 2.06.94-2.06 2.06-.94-2.06-.94-.94-2.06-.94 2.06-2.06.94zm-11 1L8.5 8.5l.94-2.06 2.06-.94-2.06-.94L8.5 2.5l-.94 2.06-2.06.94zm10 10l.94 2.06.94-2.06 2.06-.94-2.06-.94-.94-2.06-.94 2.06-2.06.94z\"/><path d=\"M17.41 7.96l-1.37-1.37c-.4-.4-.92-.59-1.43-.59-.52 0-1.04.2-1.43.59L10.3 9.45l-7.72 7.72c-.78.78-.78 2.05 0 2.83L4 21.41c.39.39.9.59 1.41.59.51 0 1.02-.2 1.41-.59l7.78-7.78 2.81-2.81c.8-.78.8-2.07 0-2.86zM5.41 20L4 18.59l7.72-7.72 1.47 1.35L5.41 20z\"/>\n",
              "  </svg>\n",
              "      </button>\n",
              "      \n",
              "  <style>\n",
              "    .colab-df-container {\n",
              "      display:flex;\n",
              "      flex-wrap:wrap;\n",
              "      gap: 12px;\n",
              "    }\n",
              "\n",
              "    .colab-df-convert {\n",
              "      background-color: #E8F0FE;\n",
              "      border: none;\n",
              "      border-radius: 50%;\n",
              "      cursor: pointer;\n",
              "      display: none;\n",
              "      fill: #1967D2;\n",
              "      height: 32px;\n",
              "      padding: 0 0 0 0;\n",
              "      width: 32px;\n",
              "    }\n",
              "\n",
              "    .colab-df-convert:hover {\n",
              "      background-color: #E2EBFA;\n",
              "      box-shadow: 0px 1px 2px rgba(60, 64, 67, 0.3), 0px 1px 3px 1px rgba(60, 64, 67, 0.15);\n",
              "      fill: #174EA6;\n",
              "    }\n",
              "\n",
              "    [theme=dark] .colab-df-convert {\n",
              "      background-color: #3B4455;\n",
              "      fill: #D2E3FC;\n",
              "    }\n",
              "\n",
              "    [theme=dark] .colab-df-convert:hover {\n",
              "      background-color: #434B5C;\n",
              "      box-shadow: 0px 1px 3px 1px rgba(0, 0, 0, 0.15);\n",
              "      filter: drop-shadow(0px 1px 2px rgba(0, 0, 0, 0.3));\n",
              "      fill: #FFFFFF;\n",
              "    }\n",
              "  </style>\n",
              "\n",
              "      <script>\n",
              "        const buttonEl =\n",
              "          document.querySelector('#df-72763627-ef02-4109-8463-2b6660f3c0dd button.colab-df-convert');\n",
              "        buttonEl.style.display =\n",
              "          google.colab.kernel.accessAllowed ? 'block' : 'none';\n",
              "\n",
              "        async function convertToInteractive(key) {\n",
              "          const element = document.querySelector('#df-72763627-ef02-4109-8463-2b6660f3c0dd');\n",
              "          const dataTable =\n",
              "            await google.colab.kernel.invokeFunction('convertToInteractive',\n",
              "                                                     [key], {});\n",
              "          if (!dataTable) return;\n",
              "\n",
              "          const docLinkHtml = 'Like what you see? Visit the ' +\n",
              "            '<a target=\"_blank\" href=https://colab.research.google.com/notebooks/data_table.ipynb>data table notebook</a>'\n",
              "            + ' to learn more about interactive tables.';\n",
              "          element.innerHTML = '';\n",
              "          dataTable['output_type'] = 'display_data';\n",
              "          await google.colab.output.renderOutput(dataTable, element);\n",
              "          const docLink = document.createElement('div');\n",
              "          docLink.innerHTML = docLinkHtml;\n",
              "          element.appendChild(docLink);\n",
              "        }\n",
              "      </script>\n",
              "    </div>\n",
              "  </div>\n",
              "  "
            ]
          },
          "metadata": {},
          "execution_count": 144
        }
      ]
    },
    {
      "cell_type": "markdown",
      "source": [
        "## Feature Importance"
      ],
      "metadata": {
        "id": "ysVDoEdPRSOe"
      }
    },
    {
      "cell_type": "code",
      "source": [
        "rfc = RandomForestClassifier(max_depth=4)\n",
        "rfc.fit(X_train, y_train)"
      ],
      "metadata": {
        "colab": {
          "base_uri": "https://localhost:8080/"
        },
        "id": "vzlCd007P97B",
        "outputId": "b7f364dc-829a-495d-b8ca-beae81b02cb9"
      },
      "execution_count": 145,
      "outputs": [
        {
          "output_type": "execute_result",
          "data": {
            "text/plain": [
              "RandomForestClassifier(max_depth=4)"
            ]
          },
          "metadata": {},
          "execution_count": 145
        }
      ]
    },
    {
      "cell_type": "code",
      "source": [
        "arr_feature_importances = rfc.feature_importances_\n",
        "arr_feature_names = X_train.columns.values\n",
        "    \n",
        "df_feature_importance = pd.DataFrame(index=range(len(arr_feature_importances)), columns=['feature', 'importance'])\n",
        "df_feature_importance['feature'] = arr_feature_names\n",
        "df_feature_importance['importance'] = arr_feature_importances\n",
        "df_all_features = df_feature_importance.sort_values(by='importance', ascending=False)\n",
        "df_all_features"
      ],
      "metadata": {
        "colab": {
          "base_uri": "https://localhost:8080/",
          "height": 424
        },
        "id": "vHRSAJOMRWwU",
        "outputId": "0aafacb1-373e-47f6-efb7-e3b0690311b9"
      },
      "execution_count": 146,
      "outputs": [
        {
          "output_type": "execute_result",
          "data": {
            "text/plain": [
              "                    feature  importance\n",
              "84               recoveries    0.394420\n",
              "85          last_pymnt_amnt    0.202221\n",
              "90        mths_last_pymnt_d    0.129003\n",
              "92  mths_last_credit_pull_d    0.061345\n",
              "69                     term    0.044232\n",
              "..                      ...         ...\n",
              "87           acc_now_delinq    0.000000\n",
              "56            addr_state_RI    0.000000\n",
              "58            addr_state_SD    0.000000\n",
              "63            addr_state_VT    0.000000\n",
              "59            addr_state_TN    0.000000\n",
              "\n",
              "[93 rows x 2 columns]"
            ],
            "text/html": [
              "\n",
              "  <div id=\"df-a435069a-3d77-4128-b66d-f8aa5c3c878b\">\n",
              "    <div class=\"colab-df-container\">\n",
              "      <div>\n",
              "<style scoped>\n",
              "    .dataframe tbody tr th:only-of-type {\n",
              "        vertical-align: middle;\n",
              "    }\n",
              "\n",
              "    .dataframe tbody tr th {\n",
              "        vertical-align: top;\n",
              "    }\n",
              "\n",
              "    .dataframe thead th {\n",
              "        text-align: right;\n",
              "    }\n",
              "</style>\n",
              "<table border=\"1\" class=\"dataframe\">\n",
              "  <thead>\n",
              "    <tr style=\"text-align: right;\">\n",
              "      <th></th>\n",
              "      <th>feature</th>\n",
              "      <th>importance</th>\n",
              "    </tr>\n",
              "  </thead>\n",
              "  <tbody>\n",
              "    <tr>\n",
              "      <th>84</th>\n",
              "      <td>recoveries</td>\n",
              "      <td>0.394420</td>\n",
              "    </tr>\n",
              "    <tr>\n",
              "      <th>85</th>\n",
              "      <td>last_pymnt_amnt</td>\n",
              "      <td>0.202221</td>\n",
              "    </tr>\n",
              "    <tr>\n",
              "      <th>90</th>\n",
              "      <td>mths_last_pymnt_d</td>\n",
              "      <td>0.129003</td>\n",
              "    </tr>\n",
              "    <tr>\n",
              "      <th>92</th>\n",
              "      <td>mths_last_credit_pull_d</td>\n",
              "      <td>0.061345</td>\n",
              "    </tr>\n",
              "    <tr>\n",
              "      <th>69</th>\n",
              "      <td>term</td>\n",
              "      <td>0.044232</td>\n",
              "    </tr>\n",
              "    <tr>\n",
              "      <th>...</th>\n",
              "      <td>...</td>\n",
              "      <td>...</td>\n",
              "    </tr>\n",
              "    <tr>\n",
              "      <th>87</th>\n",
              "      <td>acc_now_delinq</td>\n",
              "      <td>0.000000</td>\n",
              "    </tr>\n",
              "    <tr>\n",
              "      <th>56</th>\n",
              "      <td>addr_state_RI</td>\n",
              "      <td>0.000000</td>\n",
              "    </tr>\n",
              "    <tr>\n",
              "      <th>58</th>\n",
              "      <td>addr_state_SD</td>\n",
              "      <td>0.000000</td>\n",
              "    </tr>\n",
              "    <tr>\n",
              "      <th>63</th>\n",
              "      <td>addr_state_VT</td>\n",
              "      <td>0.000000</td>\n",
              "    </tr>\n",
              "    <tr>\n",
              "      <th>59</th>\n",
              "      <td>addr_state_TN</td>\n",
              "      <td>0.000000</td>\n",
              "    </tr>\n",
              "  </tbody>\n",
              "</table>\n",
              "<p>93 rows × 2 columns</p>\n",
              "</div>\n",
              "      <button class=\"colab-df-convert\" onclick=\"convertToInteractive('df-a435069a-3d77-4128-b66d-f8aa5c3c878b')\"\n",
              "              title=\"Convert this dataframe to an interactive table.\"\n",
              "              style=\"display:none;\">\n",
              "        \n",
              "  <svg xmlns=\"http://www.w3.org/2000/svg\" height=\"24px\"viewBox=\"0 0 24 24\"\n",
              "       width=\"24px\">\n",
              "    <path d=\"M0 0h24v24H0V0z\" fill=\"none\"/>\n",
              "    <path d=\"M18.56 5.44l.94 2.06.94-2.06 2.06-.94-2.06-.94-.94-2.06-.94 2.06-2.06.94zm-11 1L8.5 8.5l.94-2.06 2.06-.94-2.06-.94L8.5 2.5l-.94 2.06-2.06.94zm10 10l.94 2.06.94-2.06 2.06-.94-2.06-.94-.94-2.06-.94 2.06-2.06.94z\"/><path d=\"M17.41 7.96l-1.37-1.37c-.4-.4-.92-.59-1.43-.59-.52 0-1.04.2-1.43.59L10.3 9.45l-7.72 7.72c-.78.78-.78 2.05 0 2.83L4 21.41c.39.39.9.59 1.41.59.51 0 1.02-.2 1.41-.59l7.78-7.78 2.81-2.81c.8-.78.8-2.07 0-2.86zM5.41 20L4 18.59l7.72-7.72 1.47 1.35L5.41 20z\"/>\n",
              "  </svg>\n",
              "      </button>\n",
              "      \n",
              "  <style>\n",
              "    .colab-df-container {\n",
              "      display:flex;\n",
              "      flex-wrap:wrap;\n",
              "      gap: 12px;\n",
              "    }\n",
              "\n",
              "    .colab-df-convert {\n",
              "      background-color: #E8F0FE;\n",
              "      border: none;\n",
              "      border-radius: 50%;\n",
              "      cursor: pointer;\n",
              "      display: none;\n",
              "      fill: #1967D2;\n",
              "      height: 32px;\n",
              "      padding: 0 0 0 0;\n",
              "      width: 32px;\n",
              "    }\n",
              "\n",
              "    .colab-df-convert:hover {\n",
              "      background-color: #E2EBFA;\n",
              "      box-shadow: 0px 1px 2px rgba(60, 64, 67, 0.3), 0px 1px 3px 1px rgba(60, 64, 67, 0.15);\n",
              "      fill: #174EA6;\n",
              "    }\n",
              "\n",
              "    [theme=dark] .colab-df-convert {\n",
              "      background-color: #3B4455;\n",
              "      fill: #D2E3FC;\n",
              "    }\n",
              "\n",
              "    [theme=dark] .colab-df-convert:hover {\n",
              "      background-color: #434B5C;\n",
              "      box-shadow: 0px 1px 3px 1px rgba(0, 0, 0, 0.15);\n",
              "      filter: drop-shadow(0px 1px 2px rgba(0, 0, 0, 0.3));\n",
              "      fill: #FFFFFF;\n",
              "    }\n",
              "  </style>\n",
              "\n",
              "      <script>\n",
              "        const buttonEl =\n",
              "          document.querySelector('#df-a435069a-3d77-4128-b66d-f8aa5c3c878b button.colab-df-convert');\n",
              "        buttonEl.style.display =\n",
              "          google.colab.kernel.accessAllowed ? 'block' : 'none';\n",
              "\n",
              "        async function convertToInteractive(key) {\n",
              "          const element = document.querySelector('#df-a435069a-3d77-4128-b66d-f8aa5c3c878b');\n",
              "          const dataTable =\n",
              "            await google.colab.kernel.invokeFunction('convertToInteractive',\n",
              "                                                     [key], {});\n",
              "          if (!dataTable) return;\n",
              "\n",
              "          const docLinkHtml = 'Like what you see? Visit the ' +\n",
              "            '<a target=\"_blank\" href=https://colab.research.google.com/notebooks/data_table.ipynb>data table notebook</a>'\n",
              "            + ' to learn more about interactive tables.';\n",
              "          element.innerHTML = '';\n",
              "          dataTable['output_type'] = 'display_data';\n",
              "          await google.colab.output.renderOutput(dataTable, element);\n",
              "          const docLink = document.createElement('div');\n",
              "          docLink.innerHTML = docLinkHtml;\n",
              "          element.appendChild(docLink);\n",
              "        }\n",
              "      </script>\n",
              "    </div>\n",
              "  </div>\n",
              "  "
            ]
          },
          "metadata": {},
          "execution_count": 146
        }
      ]
    },
    {
      "cell_type": "code",
      "source": [],
      "metadata": {
        "id": "cTkZVXTURYU5"
      },
      "execution_count": null,
      "outputs": []
    }
  ]
}